{
 "cells": [
  {
   "cell_type": "markdown",
   "metadata": {},
   "source": [
<<<<<<< HEAD
=======
    "\n",
    "**Mini Project: Predictive Maintenance using Machine Learning**\n",
    "**Project Description**\n",
    "\n",
    "The miniproject dictates, that we should choose two different models to try and predict machine failures based on the collected data. The chosen models are Random Forest Classifier and a Support Vector Machine. This Jupyter notebook will only cover the Support Vector Machine.\n",
    "\n",
    "\n",
    "**-----------------Objectives-----------------**\n",
    "- Load dependencies\n",
    "- Load dataset\n",
    "- Preprocess data, look for missing values etc.\n",
    "- Perform gridsearch hyperparameter tuning\n",
    "- Train Random Forest Classifier\n",
    "- Evaluate performance using ML metrics\n",
    "- Visualize results\n",
    "\n",
    "**------------------Solution------------------**\n",
    "\n",
>>>>>>> 59e60ae (Edited the markdowns and included k-fold in SVM)
    "**Step 1:** Loading dependencies:\n",
    "\n",
    "The first step is to load in the necessary dependencies, as i will be using these packages to load the training data, and train the models."
   ]
  },
  {
   "cell_type": "code",
<<<<<<< HEAD
   "execution_count": 9,
=======
   "execution_count": 10,
>>>>>>> 59e60ae (Edited the markdowns and included k-fold in SVM)
   "metadata": {},
   "outputs": [],
   "source": [
    "#loading dependencies\n",
    "import pandas as pd\n",
    "import numpy as np\n",
    "import matplotlib.pyplot as plt\n",
    "import seaborn as sns\n",
<<<<<<< HEAD
    "from sklearn.model_selection import train_test_split, GridSearchCV\n",
    "from sklearn.preprocessing import StandardScaler\n",
    "from sklearn.svm import SVC\n",
    "from sklearn.metrics import classification_report, accuracy_score, confusion_matrix, roc_curve, precision_recall_curve, auc\n",
=======
    "from sklearn.model_selection import train_test_split, GridSearchCV, StratifiedKFold\n",
    "from sklearn.preprocessing import StandardScaler\n",
    "from sklearn.linear_model import LogisticRegression\n",
    "from sklearn.metrics import classification_report, confusion_matrix\n",
    "from sklearn.metrics import classification_report, accuracy_score, confusion_matrix, roc_curve, precision_recall_curve, auc\n",
    "from sklearn.svm import SVC\n",
>>>>>>> 59e60ae (Edited the markdowns and included k-fold in SVM)
    "from imblearn.under_sampling import RandomUnderSampler"
   ]
  },
  {
   "cell_type": "markdown",
   "metadata": {},
   "source": [
<<<<<<< HEAD
    "**Step 2:** Loading the dataset with `pandas`\n",
    "\n",
    "First the data is loaded, checked for missing values, and irrelevant coloumns are dropped."
=======
    "**Step 2**: Loading the dataset with pandas\n",
    "\n",
    "First the data is loaded, checked for missing values, and irrelevant coloumns are dropped.\n"
>>>>>>> 59e60ae (Edited the markdowns and included k-fold in SVM)
   ]
  },
  {
   "cell_type": "code",
<<<<<<< HEAD
   "execution_count": 10,
=======
   "execution_count": 11,
>>>>>>> 59e60ae (Edited the markdowns and included k-fold in SVM)
   "metadata": {},
   "outputs": [
    {
     "data": {
      "text/html": [
       "<div>\n",
       "<style scoped>\n",
       "    .dataframe tbody tr th:only-of-type {\n",
       "        vertical-align: middle;\n",
       "    }\n",
       "\n",
       "    .dataframe tbody tr th {\n",
       "        vertical-align: top;\n",
       "    }\n",
       "\n",
       "    .dataframe thead th {\n",
       "        text-align: right;\n",
       "    }\n",
       "</style>\n",
       "<table border=\"1\" class=\"dataframe\">\n",
       "  <thead>\n",
       "    <tr style=\"text-align: right;\">\n",
       "      <th></th>\n",
       "      <th>UDI</th>\n",
       "      <th>Product ID</th>\n",
       "      <th>Type</th>\n",
       "      <th>Air temperature [K]</th>\n",
       "      <th>Process temperature [K]</th>\n",
       "      <th>Rotational speed [rpm]</th>\n",
       "      <th>Torque [Nm]</th>\n",
       "      <th>Tool wear [min]</th>\n",
       "      <th>Machine failure</th>\n",
       "      <th>TWF</th>\n",
       "      <th>HDF</th>\n",
       "      <th>PWF</th>\n",
       "      <th>OSF</th>\n",
       "      <th>RNF</th>\n",
       "    </tr>\n",
       "  </thead>\n",
       "  <tbody>\n",
       "    <tr>\n",
       "      <th>0</th>\n",
       "      <td>1</td>\n",
       "      <td>M14860</td>\n",
       "      <td>M</td>\n",
       "      <td>298.1</td>\n",
       "      <td>308.6</td>\n",
       "      <td>1551</td>\n",
       "      <td>42.8</td>\n",
       "      <td>0</td>\n",
       "      <td>0</td>\n",
       "      <td>0</td>\n",
       "      <td>0</td>\n",
       "      <td>0</td>\n",
       "      <td>0</td>\n",
       "      <td>0</td>\n",
       "    </tr>\n",
       "    <tr>\n",
       "      <th>1</th>\n",
       "      <td>2</td>\n",
       "      <td>L47181</td>\n",
       "      <td>L</td>\n",
       "      <td>298.2</td>\n",
       "      <td>308.7</td>\n",
       "      <td>1408</td>\n",
       "      <td>46.3</td>\n",
       "      <td>3</td>\n",
       "      <td>0</td>\n",
       "      <td>0</td>\n",
       "      <td>0</td>\n",
       "      <td>0</td>\n",
       "      <td>0</td>\n",
       "      <td>0</td>\n",
       "    </tr>\n",
       "    <tr>\n",
       "      <th>2</th>\n",
       "      <td>3</td>\n",
       "      <td>L47182</td>\n",
       "      <td>L</td>\n",
       "      <td>298.1</td>\n",
       "      <td>308.5</td>\n",
       "      <td>1498</td>\n",
       "      <td>49.4</td>\n",
       "      <td>5</td>\n",
       "      <td>0</td>\n",
       "      <td>0</td>\n",
       "      <td>0</td>\n",
       "      <td>0</td>\n",
       "      <td>0</td>\n",
       "      <td>0</td>\n",
       "    </tr>\n",
       "    <tr>\n",
       "      <th>3</th>\n",
       "      <td>4</td>\n",
       "      <td>L47183</td>\n",
       "      <td>L</td>\n",
       "      <td>298.2</td>\n",
       "      <td>308.6</td>\n",
       "      <td>1433</td>\n",
       "      <td>39.5</td>\n",
       "      <td>7</td>\n",
       "      <td>0</td>\n",
       "      <td>0</td>\n",
       "      <td>0</td>\n",
       "      <td>0</td>\n",
       "      <td>0</td>\n",
       "      <td>0</td>\n",
       "    </tr>\n",
       "    <tr>\n",
       "      <th>4</th>\n",
       "      <td>5</td>\n",
       "      <td>L47184</td>\n",
       "      <td>L</td>\n",
       "      <td>298.2</td>\n",
       "      <td>308.7</td>\n",
       "      <td>1408</td>\n",
       "      <td>40.0</td>\n",
       "      <td>9</td>\n",
       "      <td>0</td>\n",
       "      <td>0</td>\n",
       "      <td>0</td>\n",
       "      <td>0</td>\n",
       "      <td>0</td>\n",
       "      <td>0</td>\n",
       "    </tr>\n",
       "  </tbody>\n",
       "</table>\n",
       "</div>"
      ],
      "text/plain": [
       "   UDI Product ID Type  Air temperature [K]  Process temperature [K]  \\\n",
       "0    1     M14860    M                298.1                    308.6   \n",
       "1    2     L47181    L                298.2                    308.7   \n",
       "2    3     L47182    L                298.1                    308.5   \n",
       "3    4     L47183    L                298.2                    308.6   \n",
       "4    5     L47184    L                298.2                    308.7   \n",
       "\n",
       "   Rotational speed [rpm]  Torque [Nm]  Tool wear [min]  Machine failure  TWF  \\\n",
       "0                    1551         42.8                0                0    0   \n",
       "1                    1408         46.3                3                0    0   \n",
       "2                    1498         49.4                5                0    0   \n",
       "3                    1433         39.5                7                0    0   \n",
       "4                    1408         40.0                9                0    0   \n",
       "\n",
       "   HDF  PWF  OSF  RNF  \n",
       "0    0    0    0    0  \n",
       "1    0    0    0    0  \n",
       "2    0    0    0    0  \n",
       "3    0    0    0    0  \n",
       "4    0    0    0    0  "
      ]
     },
<<<<<<< HEAD
     "execution_count": 10,
=======
     "execution_count": 11,
>>>>>>> 59e60ae (Edited the markdowns and included k-fold in SVM)
     "metadata": {},
     "output_type": "execute_result"
    }
   ],
   "source": [
<<<<<<< HEAD
    "data = pd.read_csv('ai4i2020.csv')\n",
=======
    "#load the data\n",
    "data = pd.read_csv('ai4i2020.csv')\n",
    "#make data into dataframe\n",
>>>>>>> 59e60ae (Edited the markdowns and included k-fold in SVM)
    "df = pd.DataFrame(data)\n",
    "df.head()"
   ]
  },
  {
   "cell_type": "code",
<<<<<<< HEAD
   "execution_count": 11,
=======
   "execution_count": 12,
>>>>>>> 59e60ae (Edited the markdowns and included k-fold in SVM)
   "metadata": {},
   "outputs": [
    {
     "data": {
      "text/plain": [
       "UDI                        0\n",
       "Product ID                 0\n",
       "Type                       0\n",
       "Air temperature [K]        0\n",
       "Process temperature [K]    0\n",
       "Rotational speed [rpm]     0\n",
       "Torque [Nm]                0\n",
       "Tool wear [min]            0\n",
       "Machine failure            0\n",
       "TWF                        0\n",
       "HDF                        0\n",
       "PWF                        0\n",
       "OSF                        0\n",
       "RNF                        0\n",
       "dtype: int64"
      ]
     },
<<<<<<< HEAD
     "execution_count": 11,
=======
     "execution_count": 12,
>>>>>>> 59e60ae (Edited the markdowns and included k-fold in SVM)
     "metadata": {},
     "output_type": "execute_result"
    }
   ],
   "source": [
<<<<<<< HEAD
    "#Checking for missing values\n",
=======
    "#check for missing values\n",
>>>>>>> 59e60ae (Edited the markdowns and included k-fold in SVM)
    "df.isnull().sum()"
   ]
  },
  {
   "cell_type": "code",
<<<<<<< HEAD
   "execution_count": 12,
=======
   "execution_count": 13,
>>>>>>> 59e60ae (Edited the markdowns and included k-fold in SVM)
   "metadata": {},
   "outputs": [
    {
     "data": {
      "text/html": [
       "<div>\n",
       "<style scoped>\n",
       "    .dataframe tbody tr th:only-of-type {\n",
       "        vertical-align: middle;\n",
       "    }\n",
       "\n",
       "    .dataframe tbody tr th {\n",
       "        vertical-align: top;\n",
       "    }\n",
       "\n",
       "    .dataframe thead th {\n",
       "        text-align: right;\n",
       "    }\n",
       "</style>\n",
       "<table border=\"1\" class=\"dataframe\">\n",
       "  <thead>\n",
       "    <tr style=\"text-align: right;\">\n",
       "      <th></th>\n",
       "      <th>Air temperature [K]</th>\n",
       "      <th>Process temperature [K]</th>\n",
       "      <th>Rotational speed [rpm]</th>\n",
       "      <th>Torque [Nm]</th>\n",
       "      <th>Tool wear [min]</th>\n",
       "      <th>Machine failure</th>\n",
       "    </tr>\n",
       "  </thead>\n",
       "  <tbody>\n",
       "    <tr>\n",
       "      <th>0</th>\n",
       "      <td>298.1</td>\n",
       "      <td>308.6</td>\n",
       "      <td>1551</td>\n",
       "      <td>42.8</td>\n",
       "      <td>0</td>\n",
       "      <td>0</td>\n",
       "    </tr>\n",
       "    <tr>\n",
       "      <th>1</th>\n",
       "      <td>298.2</td>\n",
       "      <td>308.7</td>\n",
       "      <td>1408</td>\n",
       "      <td>46.3</td>\n",
       "      <td>3</td>\n",
       "      <td>0</td>\n",
       "    </tr>\n",
       "    <tr>\n",
       "      <th>2</th>\n",
       "      <td>298.1</td>\n",
       "      <td>308.5</td>\n",
       "      <td>1498</td>\n",
       "      <td>49.4</td>\n",
       "      <td>5</td>\n",
       "      <td>0</td>\n",
       "    </tr>\n",
       "    <tr>\n",
       "      <th>3</th>\n",
       "      <td>298.2</td>\n",
       "      <td>308.6</td>\n",
       "      <td>1433</td>\n",
       "      <td>39.5</td>\n",
       "      <td>7</td>\n",
       "      <td>0</td>\n",
       "    </tr>\n",
       "    <tr>\n",
       "      <th>4</th>\n",
       "      <td>298.2</td>\n",
       "      <td>308.7</td>\n",
       "      <td>1408</td>\n",
       "      <td>40.0</td>\n",
       "      <td>9</td>\n",
       "      <td>0</td>\n",
       "    </tr>\n",
       "  </tbody>\n",
       "</table>\n",
       "</div>"
      ],
      "text/plain": [
       "   Air temperature [K]  Process temperature [K]  Rotational speed [rpm]  \\\n",
       "0                298.1                    308.6                    1551   \n",
       "1                298.2                    308.7                    1408   \n",
       "2                298.1                    308.5                    1498   \n",
       "3                298.2                    308.6                    1433   \n",
       "4                298.2                    308.7                    1408   \n",
       "\n",
       "   Torque [Nm]  Tool wear [min]  Machine failure  \n",
       "0         42.8                0                0  \n",
       "1         46.3                3                0  \n",
       "2         49.4                5                0  \n",
       "3         39.5                7                0  \n",
       "4         40.0                9                0  "
      ]
     },
<<<<<<< HEAD
     "execution_count": 12,
=======
     "execution_count": 13,
>>>>>>> 59e60ae (Edited the markdowns and included k-fold in SVM)
     "metadata": {},
     "output_type": "execute_result"
    }
   ],
   "source": [
<<<<<<< HEAD
    "#Drop irrelevant columns\n",
=======
    "#drop irrelevant columns\n",
>>>>>>> 59e60ae (Edited the markdowns and included k-fold in SVM)
    "df = df.drop(['UDI', 'Product ID','Type','TWF','HDF','PWF','OSF','RNF'], axis=1)\n",
    "df.head()"
   ]
  },
  {
   "cell_type": "markdown",
   "metadata": {},
   "source": [
<<<<<<< HEAD
    "**Step 3:** Data Pre-Processing.\n",
    "\n",
    "In this step, first the data is split into the test and training parts. I have chosen to do a 80-20 split between train and test data. Furthermore the data is scaled to normalise the features for a better result. Afterwards i use undersampling to get a more balanced training dataset. Finally i use gridsearch for hyperparameter tuning, where i have chosen some different parameters to loop through which are tested based on recall."
   ]
  },
  {
   "cell_type": "code",
   "execution_count": 13,
   "metadata": {},
   "outputs": [],
   "source": [
    "#Split the data\n",
    "x=df.drop('Machine failure', axis=1)\n",
    "y=df['Machine failure']\n",
    "x_train, x_test, y_train, y_test = train_test_split(x, y, test_size=0.2, random_state=42)\n",
    "\n",
    "#scale the data\n",
    "scaler = StandardScaler()\n",
    "scaler.fit(x_train)\n",
    "x_train = scaler.transform(x_train)\n",
    "x_test = scaler.transform(x_test)\n",
    "\n",
    "#Undersampling data due to imbalance\n",
    "undersampler = RandomUnderSampler(random_state=42)\n",
    "x_train, y_train = undersampler.fit_resample(x_train, y_train)"
=======
    "**Step 3**: Data Pre-Processing.\n",
    "\n",
    "In this step, first the data is split into the test and training parts. I have chosen to do a 80-20 split between train and test data. Furthermore the data is scaled to normalise the features for a better result. Afterwards i use undersampling to get a more balanced training dataset. Finally i use gridsearch for hyperparameter tuning, where i have chosen some different parameters to loop through which are tested based on recall.\n"
>>>>>>> 59e60ae (Edited the markdowns and included k-fold in SVM)
   ]
  },
  {
   "cell_type": "code",
   "execution_count": 14,
   "metadata": {},
<<<<<<< HEAD
=======
   "outputs": [],
   "source": [
    "#split the data\n",
    "x=df.drop('Machine failure', axis=1)\n",
    "y=df['Machine failure']\n",
    "x_train, x_test, y_train, y_test = train_test_split(x, y, test_size=0.2, random_state=42)\n",
    "\n",
    "undersampler = RandomUnderSampler(random_state=42)\n",
    "x_train, y_train = undersampler.fit_resample(x_train, y_train)\n",
    "\n",
    "\n",
    "#scale the data\n",
    "scaler = StandardScaler()\n",
    "scaler.fit(x_train)\n",
    "x_train = scaler.transform(x_train)\n",
    "x_test = scaler.transform(x_test)"
   ]
  },
  {
   "cell_type": "code",
   "execution_count": 15,
   "metadata": {},
>>>>>>> 59e60ae (Edited the markdowns and included k-fold in SVM)
   "outputs": [
    {
     "name": "stdout",
     "output_type": "stream",
     "text": [
      "Fitting 15 folds for each of 25 candidates, totalling 375 fits\n",
      "[CV 1/15] END .........C=1, gamma=1, kernel=rbf;, score=0.947 total time=   0.0s\n",
      "[CV 2/15] END .........C=1, gamma=1, kernel=rbf;, score=0.944 total time=   0.0s\n",
      "[CV 3/15] END .........C=1, gamma=1, kernel=rbf;, score=1.000 total time=   0.0s\n",
      "[CV 4/15] END .........C=1, gamma=1, kernel=rbf;, score=0.889 total time=   0.0s\n",
<<<<<<< HEAD
      "[CV 5/15] END .........C=1, gamma=1, kernel=rbf;, score=0.944 total time=   0.0s\n",
=======
      "[CV 5/15] END .........C=1, gamma=1, kernel=rbf;, score=1.000 total time=   0.0s\n",
>>>>>>> 59e60ae (Edited the markdowns and included k-fold in SVM)
      "[CV 6/15] END .........C=1, gamma=1, kernel=rbf;, score=0.944 total time=   0.0s\n",
      "[CV 7/15] END .........C=1, gamma=1, kernel=rbf;, score=0.944 total time=   0.0s\n",
      "[CV 8/15] END .........C=1, gamma=1, kernel=rbf;, score=0.889 total time=   0.0s\n",
      "[CV 9/15] END .........C=1, gamma=1, kernel=rbf;, score=0.895 total time=   0.0s\n",
      "[CV 10/15] END ........C=1, gamma=1, kernel=rbf;, score=0.947 total time=   0.0s\n",
      "[CV 11/15] END ........C=1, gamma=1, kernel=rbf;, score=0.895 total time=   0.0s\n",
<<<<<<< HEAD
      "[CV 12/15] END ........C=1, gamma=1, kernel=rbf;, score=0.842 total time=   0.0s\n",
      "[CV 13/15] END ........C=1, gamma=1, kernel=rbf;, score=0.842 total time=   0.0s\n",
      "[CV 14/15] END ........C=1, gamma=1, kernel=rbf;, score=0.895 total time=   0.0s\n",
      "[CV 15/15] END ........C=1, gamma=1, kernel=rbf;, score=0.947 total time=   0.0s\n",
      "[CV 1/15] END .......C=1, gamma=0.5, kernel=rbf;, score=0.947 total time=   0.0s\n",
      "[CV 2/15] END .......C=1, gamma=0.5, kernel=rbf;, score=0.944 total time=   0.0s\n",
      "[CV 3/15] END .......C=1, gamma=0.5, kernel=rbf;, score=1.000 total time=   0.0s\n",
      "[CV 4/15] END .......C=1, gamma=0.5, kernel=rbf;, score=0.889 total time=   0.0s\n",
      "[CV 5/15] END .......C=1, gamma=0.5, kernel=rbf;, score=0.944 total time=   0.0s\n",
      "[CV 6/15] END .......C=1, gamma=0.5, kernel=rbf;, score=0.833 total time=   0.0s\n",
      "[CV 7/15] END .......C=1, gamma=0.5, kernel=rbf;, score=0.944 total time=   0.0s\n",
      "[CV 8/15] END .......C=1, gamma=0.5, kernel=rbf;, score=0.889 total time=   0.0s\n",
      "[CV 9/15] END .......C=1, gamma=0.5, kernel=rbf;, score=0.895 total time=   0.0s\n",
      "[CV 10/15] END ......C=1, gamma=0.5, kernel=rbf;, score=0.947 total time=   0.0s\n",
      "[CV 11/15] END ......C=1, gamma=0.5, kernel=rbf;, score=0.895 total time=   0.0s\n",
      "[CV 12/15] END ......C=1, gamma=0.5, kernel=rbf;, score=0.789 total time=   0.0s\n",
=======
      "[CV 12/15] END ........C=1, gamma=1, kernel=rbf;, score=0.789 total time=   0.0s\n",
      "[CV 13/15] END ........C=1, gamma=1, kernel=rbf;, score=0.895 total time=   0.0s\n",
      "[CV 14/15] END ........C=1, gamma=1, kernel=rbf;, score=0.947 total time=   0.0s\n",
      "[CV 15/15] END ........C=1, gamma=1, kernel=rbf;, score=1.000 total time=   0.0s\n",
      "[CV 1/15] END .......C=1, gamma=0.5, kernel=rbf;, score=0.947 total time=   0.0s\n",
      "[CV 2/15] END .......C=1, gamma=0.5, kernel=rbf;, score=0.944 total time=   0.0s\n",
      "[CV 3/15] END .......C=1, gamma=0.5, kernel=rbf;, score=1.000 total time=   0.0s\n",
      "[CV 4/15] END .......C=1, gamma=0.5, kernel=rbf;, score=0.944 total time=   0.0s\n",
      "[CV 5/15] END .......C=1, gamma=0.5, kernel=rbf;, score=1.000 total time=   0.0s\n",
      "[CV 6/15] END .......C=1, gamma=0.5, kernel=rbf;, score=0.889 total time=   0.0s\n",
      "[CV 7/15] END .......C=1, gamma=0.5, kernel=rbf;, score=0.944 total time=   0.0s\n",
      "[CV 8/15] END .......C=1, gamma=0.5, kernel=rbf;, score=0.889 total time=   0.0s\n",
      "[CV 9/15] END .......C=1, gamma=0.5, kernel=rbf;, score=0.895 total time=   0.0s\n",
      "[CV 10/15] END ......C=1, gamma=0.5, kernel=rbf;, score=0.895 total time=   0.0s\n",
      "[CV 11/15] END ......C=1, gamma=0.5, kernel=rbf;, score=0.947 total time=   0.0s\n",
      "[CV 12/15] END ......C=1, gamma=0.5, kernel=rbf;, score=0.737 total time=   0.0s\n",
>>>>>>> 59e60ae (Edited the markdowns and included k-fold in SVM)
      "[CV 13/15] END ......C=1, gamma=0.5, kernel=rbf;, score=0.895 total time=   0.0s\n",
      "[CV 14/15] END ......C=1, gamma=0.5, kernel=rbf;, score=0.947 total time=   0.0s\n",
      "[CV 15/15] END ......C=1, gamma=0.5, kernel=rbf;, score=1.000 total time=   0.0s\n",
      "[CV 1/15] END ......C=1, gamma=0.25, kernel=rbf;, score=0.947 total time=   0.0s\n",
      "[CV 2/15] END ......C=1, gamma=0.25, kernel=rbf;, score=0.944 total time=   0.0s\n",
      "[CV 3/15] END ......C=1, gamma=0.25, kernel=rbf;, score=1.000 total time=   0.0s\n",
      "[CV 4/15] END ......C=1, gamma=0.25, kernel=rbf;, score=0.944 total time=   0.0s\n",
<<<<<<< HEAD
      "[CV 5/15] END ......C=1, gamma=0.25, kernel=rbf;, score=0.944 total time=   0.0s\n",
      "[CV 6/15] END ......C=1, gamma=0.25, kernel=rbf;, score=0.889 total time=   0.0s\n",
=======
      "[CV 5/15] END ......C=1, gamma=0.25, kernel=rbf;, score=1.000 total time=   0.0s\n",
      "[CV 6/15] END ......C=1, gamma=0.25, kernel=rbf;, score=0.944 total time=   0.0s\n",
>>>>>>> 59e60ae (Edited the markdowns and included k-fold in SVM)
      "[CV 7/15] END ......C=1, gamma=0.25, kernel=rbf;, score=0.944 total time=   0.0s\n",
      "[CV 8/15] END ......C=1, gamma=0.25, kernel=rbf;, score=0.889 total time=   0.0s\n",
      "[CV 9/15] END ......C=1, gamma=0.25, kernel=rbf;, score=0.895 total time=   0.0s\n",
      "[CV 10/15] END .....C=1, gamma=0.25, kernel=rbf;, score=0.895 total time=   0.0s\n",
      "[CV 11/15] END .....C=1, gamma=0.25, kernel=rbf;, score=0.947 total time=   0.0s\n",
<<<<<<< HEAD
      "[CV 12/15] END .....C=1, gamma=0.25, kernel=rbf;, score=0.684 total time=   0.0s\n",
      "[CV 13/15] END .....C=1, gamma=0.25, kernel=rbf;, score=0.895 total time=   0.0s\n",
=======
      "[CV 12/15] END .....C=1, gamma=0.25, kernel=rbf;, score=0.737 total time=   0.0s\n",
      "[CV 13/15] END .....C=1, gamma=0.25, kernel=rbf;, score=0.947 total time=   0.0s\n",
>>>>>>> 59e60ae (Edited the markdowns and included k-fold in SVM)
      "[CV 14/15] END .....C=1, gamma=0.25, kernel=rbf;, score=0.947 total time=   0.0s\n",
      "[CV 15/15] END .....C=1, gamma=0.25, kernel=rbf;, score=1.000 total time=   0.0s\n",
      "[CV 1/15] END .......C=1, gamma=0.1, kernel=rbf;, score=0.947 total time=   0.0s\n",
      "[CV 2/15] END .......C=1, gamma=0.1, kernel=rbf;, score=0.944 total time=   0.0s\n",
      "[CV 3/15] END .......C=1, gamma=0.1, kernel=rbf;, score=1.000 total time=   0.0s\n",
<<<<<<< HEAD
      "[CV 4/15] END .......C=1, gamma=0.1, kernel=rbf;, score=0.944 total time=   0.0s\n",
=======
      "[CV 4/15] END .......C=1, gamma=0.1, kernel=rbf;, score=0.889 total time=   0.0s\n",
>>>>>>> 59e60ae (Edited the markdowns and included k-fold in SVM)
      "[CV 5/15] END .......C=1, gamma=0.1, kernel=rbf;, score=1.000 total time=   0.0s\n",
      "[CV 6/15] END .......C=1, gamma=0.1, kernel=rbf;, score=0.889 total time=   0.0s\n",
      "[CV 7/15] END .......C=1, gamma=0.1, kernel=rbf;, score=0.944 total time=   0.0s\n",
      "[CV 8/15] END .......C=1, gamma=0.1, kernel=rbf;, score=0.889 total time=   0.0s\n",
      "[CV 9/15] END .......C=1, gamma=0.1, kernel=rbf;, score=0.895 total time=   0.0s\n",
      "[CV 10/15] END ......C=1, gamma=0.1, kernel=rbf;, score=0.895 total time=   0.0s\n",
      "[CV 11/15] END ......C=1, gamma=0.1, kernel=rbf;, score=0.895 total time=   0.0s\n",
<<<<<<< HEAD
      "[CV 12/15] END ......C=1, gamma=0.1, kernel=rbf;, score=0.789 total time=   0.0s\n",
=======
      "[CV 12/15] END ......C=1, gamma=0.1, kernel=rbf;, score=0.737 total time=   0.0s\n",
>>>>>>> 59e60ae (Edited the markdowns and included k-fold in SVM)
      "[CV 13/15] END ......C=1, gamma=0.1, kernel=rbf;, score=0.947 total time=   0.0s\n",
      "[CV 14/15] END ......C=1, gamma=0.1, kernel=rbf;, score=1.000 total time=   0.0s\n",
      "[CV 15/15] END ......C=1, gamma=0.1, kernel=rbf;, score=1.000 total time=   0.0s\n",
      "[CV 1/15] END ......C=1, gamma=0.01, kernel=rbf;, score=0.842 total time=   0.0s\n",
<<<<<<< HEAD
      "[CV 2/15] END ......C=1, gamma=0.01, kernel=rbf;, score=0.889 total time=   0.0s\n",
      "[CV 3/15] END ......C=1, gamma=0.01, kernel=rbf;, score=1.000 total time=   0.0s\n",
      "[CV 4/15] END ......C=1, gamma=0.01, kernel=rbf;, score=0.944 total time=   0.0s\n",
      "[CV 5/15] END ......C=1, gamma=0.01, kernel=rbf;, score=0.944 total time=   0.0s\n",
      "[CV 6/15] END ......C=1, gamma=0.01, kernel=rbf;, score=0.778 total time=   0.0s\n",
      "[CV 7/15] END ......C=1, gamma=0.01, kernel=rbf;, score=0.889 total time=   0.0s\n",
      "[CV 8/15] END ......C=1, gamma=0.01, kernel=rbf;, score=0.944 total time=   0.0s\n",
      "[CV 9/15] END ......C=1, gamma=0.01, kernel=rbf;, score=0.895 total time=   0.0s\n",
      "[CV 10/15] END .....C=1, gamma=0.01, kernel=rbf;, score=0.895 total time=   0.0s\n",
      "[CV 11/15] END .....C=1, gamma=0.01, kernel=rbf;, score=0.737 total time=   0.0s\n",
      "[CV 12/15] END .....C=1, gamma=0.01, kernel=rbf;, score=0.789 total time=   0.0s\n",
      "[CV 13/15] END .....C=1, gamma=0.01, kernel=rbf;, score=0.789 total time=   0.0s\n",
      "[CV 14/15] END .....C=1, gamma=0.01, kernel=rbf;, score=0.789 total time=   0.0s\n",
=======
      "[CV 2/15] END ......C=1, gamma=0.01, kernel=rbf;, score=0.778 total time=   0.0s\n",
      "[CV 3/15] END ......C=1, gamma=0.01, kernel=rbf;, score=0.944 total time=   0.0s\n",
      "[CV 4/15] END ......C=1, gamma=0.01, kernel=rbf;, score=0.833 total time=   0.0s\n",
      "[CV 5/15] END ......C=1, gamma=0.01, kernel=rbf;, score=0.778 total time=   0.0s\n",
      "[CV 6/15] END ......C=1, gamma=0.01, kernel=rbf;, score=0.667 total time=   0.0s\n",
      "[CV 7/15] END ......C=1, gamma=0.01, kernel=rbf;, score=0.889 total time=   0.0s\n",
      "[CV 8/15] END ......C=1, gamma=0.01, kernel=rbf;, score=0.889 total time=   0.0s\n",
      "[CV 9/15] END ......C=1, gamma=0.01, kernel=rbf;, score=0.947 total time=   0.0s\n",
      "[CV 10/15] END .....C=1, gamma=0.01, kernel=rbf;, score=0.895 total time=   0.0s\n",
      "[CV 11/15] END .....C=1, gamma=0.01, kernel=rbf;, score=0.789 total time=   0.0s\n",
      "[CV 12/15] END .....C=1, gamma=0.01, kernel=rbf;, score=0.737 total time=   0.0s\n",
      "[CV 13/15] END .....C=1, gamma=0.01, kernel=rbf;, score=0.842 total time=   0.0s\n",
      "[CV 14/15] END .....C=1, gamma=0.01, kernel=rbf;, score=0.842 total time=   0.0s\n",
>>>>>>> 59e60ae (Edited the markdowns and included k-fold in SVM)
      "[CV 15/15] END .....C=1, gamma=0.01, kernel=rbf;, score=0.947 total time=   0.0s\n",
      "[CV 1/15] END ........C=10, gamma=1, kernel=rbf;, score=0.947 total time=   0.0s\n",
      "[CV 2/15] END ........C=10, gamma=1, kernel=rbf;, score=0.944 total time=   0.0s\n",
      "[CV 3/15] END ........C=10, gamma=1, kernel=rbf;, score=1.000 total time=   0.0s\n",
      "[CV 4/15] END ........C=10, gamma=1, kernel=rbf;, score=0.944 total time=   0.0s\n",
      "[CV 5/15] END ........C=10, gamma=1, kernel=rbf;, score=0.944 total time=   0.0s\n",
<<<<<<< HEAD
      "[CV 6/15] END ........C=10, gamma=1, kernel=rbf;, score=0.889 total time=   0.0s\n",
      "[CV 7/15] END ........C=10, gamma=1, kernel=rbf;, score=1.000 total time=   0.0s\n",
      "[CV 8/15] END ........C=10, gamma=1, kernel=rbf;, score=0.889 total time=   0.0s\n",
      "[CV 9/15] END ........C=10, gamma=1, kernel=rbf;, score=0.842 total time=   0.0s\n",
      "[CV 10/15] END .......C=10, gamma=1, kernel=rbf;, score=0.947 total time=   0.0s\n",
      "[CV 11/15] END .......C=10, gamma=1, kernel=rbf;, score=0.895 total time=   0.0s\n",
      "[CV 12/15] END .......C=10, gamma=1, kernel=rbf;, score=0.789 total time=   0.0s\n",
      "[CV 13/15] END .......C=10, gamma=1, kernel=rbf;, score=0.842 total time=   0.0s\n",
      "[CV 14/15] END .......C=10, gamma=1, kernel=rbf;, score=0.895 total time=   0.0s\n",
      "[CV 15/15] END .......C=10, gamma=1, kernel=rbf;, score=0.895 total time=   0.0s\n",
=======
      "[CV 6/15] END ........C=10, gamma=1, kernel=rbf;, score=0.944 total time=   0.0s\n",
      "[CV 7/15] END ........C=10, gamma=1, kernel=rbf;, score=0.944 total time=   0.0s\n",
      "[CV 8/15] END ........C=10, gamma=1, kernel=rbf;, score=0.889 total time=   0.0s\n",
      "[CV 9/15] END ........C=10, gamma=1, kernel=rbf;, score=0.842 total time=   0.0s\n",
      "[CV 10/15] END .......C=10, gamma=1, kernel=rbf;, score=0.895 total time=   0.0s\n",
      "[CV 11/15] END .......C=10, gamma=1, kernel=rbf;, score=0.789 total time=   0.0s\n",
      "[CV 12/15] END .......C=10, gamma=1, kernel=rbf;, score=0.895 total time=   0.0s\n",
      "[CV 13/15] END .......C=10, gamma=1, kernel=rbf;, score=0.842 total time=   0.0s\n",
      "[CV 14/15] END .......C=10, gamma=1, kernel=rbf;, score=0.947 total time=   0.0s\n",
      "[CV 15/15] END .......C=10, gamma=1, kernel=rbf;, score=0.947 total time=   0.0s\n",
>>>>>>> 59e60ae (Edited the markdowns and included k-fold in SVM)
      "[CV 1/15] END ......C=10, gamma=0.5, kernel=rbf;, score=0.947 total time=   0.0s\n",
      "[CV 2/15] END ......C=10, gamma=0.5, kernel=rbf;, score=0.944 total time=   0.0s\n",
      "[CV 3/15] END ......C=10, gamma=0.5, kernel=rbf;, score=1.000 total time=   0.0s\n",
      "[CV 4/15] END ......C=10, gamma=0.5, kernel=rbf;, score=0.889 total time=   0.0s\n",
      "[CV 5/15] END ......C=10, gamma=0.5, kernel=rbf;, score=0.944 total time=   0.0s\n",
<<<<<<< HEAD
      "[CV 6/15] END ......C=10, gamma=0.5, kernel=rbf;, score=0.889 total time=   0.0s\n",
=======
      "[CV 6/15] END ......C=10, gamma=0.5, kernel=rbf;, score=0.944 total time=   0.0s\n",
>>>>>>> 59e60ae (Edited the markdowns and included k-fold in SVM)
      "[CV 7/15] END ......C=10, gamma=0.5, kernel=rbf;, score=0.944 total time=   0.0s\n",
      "[CV 8/15] END ......C=10, gamma=0.5, kernel=rbf;, score=0.889 total time=   0.0s\n",
      "[CV 9/15] END ......C=10, gamma=0.5, kernel=rbf;, score=0.895 total time=   0.0s\n",
      "[CV 10/15] END .....C=10, gamma=0.5, kernel=rbf;, score=0.895 total time=   0.0s\n",
<<<<<<< HEAD
      "[CV 11/15] END .....C=10, gamma=0.5, kernel=rbf;, score=0.947 total time=   0.0s\n",
      "[CV 12/15] END .....C=10, gamma=0.5, kernel=rbf;, score=0.842 total time=   0.0s\n",
=======
      "[CV 11/15] END .....C=10, gamma=0.5, kernel=rbf;, score=0.895 total time=   0.0s\n",
      "[CV 12/15] END .....C=10, gamma=0.5, kernel=rbf;, score=0.789 total time=   0.0s\n",
>>>>>>> 59e60ae (Edited the markdowns and included k-fold in SVM)
      "[CV 13/15] END .....C=10, gamma=0.5, kernel=rbf;, score=0.842 total time=   0.0s\n",
      "[CV 14/15] END .....C=10, gamma=0.5, kernel=rbf;, score=0.947 total time=   0.0s\n",
      "[CV 15/15] END .....C=10, gamma=0.5, kernel=rbf;, score=0.947 total time=   0.0s\n",
      "[CV 1/15] END .....C=10, gamma=0.25, kernel=rbf;, score=0.947 total time=   0.0s\n",
      "[CV 2/15] END .....C=10, gamma=0.25, kernel=rbf;, score=0.944 total time=   0.0s\n",
      "[CV 3/15] END .....C=10, gamma=0.25, kernel=rbf;, score=1.000 total time=   0.0s\n",
      "[CV 4/15] END .....C=10, gamma=0.25, kernel=rbf;, score=0.889 total time=   0.0s\n",
      "[CV 5/15] END .....C=10, gamma=0.25, kernel=rbf;, score=0.944 total time=   0.0s\n",
      "[CV 6/15] END .....C=10, gamma=0.25, kernel=rbf;, score=0.889 total time=   0.0s\n",
      "[CV 7/15] END .....C=10, gamma=0.25, kernel=rbf;, score=0.944 total time=   0.0s\n",
      "[CV 8/15] END .....C=10, gamma=0.25, kernel=rbf;, score=0.889 total time=   0.0s\n",
<<<<<<< HEAD
      "[CV 9/15] END .....C=10, gamma=0.25, kernel=rbf;, score=0.895 total time=   0.0s\n",
      "[CV 10/15] END ....C=10, gamma=0.25, kernel=rbf;, score=0.947 total time=   0.0s\n",
      "[CV 11/15] END ....C=10, gamma=0.25, kernel=rbf;, score=0.947 total time=   0.0s\n",
      "[CV 12/15] END ....C=10, gamma=0.25, kernel=rbf;, score=0.842 total time=   0.0s\n",
      "[CV 13/15] END ....C=10, gamma=0.25, kernel=rbf;, score=0.789 total time=   0.0s\n",
=======
      "[CV 9/15] END .....C=10, gamma=0.25, kernel=rbf;, score=0.842 total time=   0.0s\n",
      "[CV 10/15] END ....C=10, gamma=0.25, kernel=rbf;, score=0.895 total time=   0.0s\n",
      "[CV 11/15] END ....C=10, gamma=0.25, kernel=rbf;, score=0.947 total time=   0.0s\n",
      "[CV 12/15] END ....C=10, gamma=0.25, kernel=rbf;, score=0.842 total time=   0.0s\n",
      "[CV 13/15] END ....C=10, gamma=0.25, kernel=rbf;, score=0.947 total time=   0.0s\n",
>>>>>>> 59e60ae (Edited the markdowns and included k-fold in SVM)
      "[CV 14/15] END ....C=10, gamma=0.25, kernel=rbf;, score=0.947 total time=   0.0s\n",
      "[CV 15/15] END ....C=10, gamma=0.25, kernel=rbf;, score=0.947 total time=   0.0s\n",
      "[CV 1/15] END ......C=10, gamma=0.1, kernel=rbf;, score=0.947 total time=   0.0s\n",
      "[CV 2/15] END ......C=10, gamma=0.1, kernel=rbf;, score=0.944 total time=   0.0s\n",
      "[CV 3/15] END ......C=10, gamma=0.1, kernel=rbf;, score=1.000 total time=   0.0s\n",
<<<<<<< HEAD
      "[CV 4/15] END ......C=10, gamma=0.1, kernel=rbf;, score=0.889 total time=   0.0s\n",
      "[CV 5/15] END ......C=10, gamma=0.1, kernel=rbf;, score=0.944 total time=   0.0s\n",
      "[CV 6/15] END ......C=10, gamma=0.1, kernel=rbf;, score=0.778 total time=   0.0s\n",
      "[CV 7/15] END ......C=10, gamma=0.1, kernel=rbf;, score=0.944 total time=   0.0s\n",
      "[CV 8/15] END ......C=10, gamma=0.1, kernel=rbf;, score=0.889 total time=   0.0s\n",
      "[CV 9/15] END ......C=10, gamma=0.1, kernel=rbf;, score=0.842 total time=   0.0s\n",
      "[CV 10/15] END .....C=10, gamma=0.1, kernel=rbf;, score=0.895 total time=   0.0s\n",
      "[CV 11/15] END .....C=10, gamma=0.1, kernel=rbf;, score=0.947 total time=   0.0s\n",
      "[CV 12/15] END .....C=10, gamma=0.1, kernel=rbf;, score=0.737 total time=   0.0s\n",
      "[CV 13/15] END .....C=10, gamma=0.1, kernel=rbf;, score=0.895 total time=   0.0s\n",
      "[CV 14/15] END .....C=10, gamma=0.1, kernel=rbf;, score=0.947 total time=   0.0s\n",
      "[CV 15/15] END .....C=10, gamma=0.1, kernel=rbf;, score=1.000 total time=   0.0s\n",
      "[CV 1/15] END .....C=10, gamma=0.01, kernel=rbf;, score=0.842 total time=   0.0s\n",
      "[CV 2/15] END .....C=10, gamma=0.01, kernel=rbf;, score=0.889 total time=   0.0s\n",
      "[CV 3/15] END .....C=10, gamma=0.01, kernel=rbf;, score=1.000 total time=   0.0s\n",
      "[CV 4/15] END .....C=10, gamma=0.01, kernel=rbf;, score=0.944 total time=   0.0s\n",
      "[CV 5/15] END .....C=10, gamma=0.01, kernel=rbf;, score=1.000 total time=   0.0s\n",
      "[CV 6/15] END .....C=10, gamma=0.01, kernel=rbf;, score=0.833 total time=   0.0s\n",
      "[CV 7/15] END .....C=10, gamma=0.01, kernel=rbf;, score=0.889 total time=   0.0s\n",
      "[CV 8/15] END .....C=10, gamma=0.01, kernel=rbf;, score=0.889 total time=   0.0s\n",
      "[CV 9/15] END .....C=10, gamma=0.01, kernel=rbf;, score=0.842 total time=   0.0s\n",
      "[CV 10/15] END ....C=10, gamma=0.01, kernel=rbf;, score=0.895 total time=   0.0s\n",
      "[CV 11/15] END ....C=10, gamma=0.01, kernel=rbf;, score=0.842 total time=   0.0s\n",
      "[CV 12/15] END ....C=10, gamma=0.01, kernel=rbf;, score=0.789 total time=   0.0s\n",
      "[CV 13/15] END ....C=10, gamma=0.01, kernel=rbf;, score=0.842 total time=   0.0s\n",
      "[CV 14/15] END ....C=10, gamma=0.01, kernel=rbf;, score=1.000 total time=   0.0s\n",
      "[CV 15/15] END ....C=10, gamma=0.01, kernel=rbf;, score=1.000 total time=   0.0s\n",
      "[CV 1/15] END .......C=100, gamma=1, kernel=rbf;, score=0.947 total time=   0.0s\n",
      "[CV 2/15] END .......C=100, gamma=1, kernel=rbf;, score=0.944 total time=   0.0s\n",
      "[CV 3/15] END .......C=100, gamma=1, kernel=rbf;, score=1.000 total time=   0.0s\n",
      "[CV 4/15] END .......C=100, gamma=1, kernel=rbf;, score=0.944 total time=   0.0s\n",
      "[CV 5/15] END .......C=100, gamma=1, kernel=rbf;, score=0.944 total time=   0.0s\n",
      "[CV 6/15] END .......C=100, gamma=1, kernel=rbf;, score=0.889 total time=   0.0s\n",
      "[CV 7/15] END .......C=100, gamma=1, kernel=rbf;, score=0.944 total time=   0.0s\n",
      "[CV 8/15] END .......C=100, gamma=1, kernel=rbf;, score=0.944 total time=   0.0s\n",
      "[CV 9/15] END .......C=100, gamma=1, kernel=rbf;, score=0.842 total time=   0.0s\n",
      "[CV 10/15] END ......C=100, gamma=1, kernel=rbf;, score=0.895 total time=   0.0s\n",
      "[CV 11/15] END ......C=100, gamma=1, kernel=rbf;, score=0.895 total time=   0.0s\n",
      "[CV 12/15] END ......C=100, gamma=1, kernel=rbf;, score=0.737 total time=   0.0s\n",
      "[CV 13/15] END ......C=100, gamma=1, kernel=rbf;, score=0.842 total time=   0.0s\n",
      "[CV 14/15] END ......C=100, gamma=1, kernel=rbf;, score=0.895 total time=   0.0s\n",
      "[CV 15/15] END ......C=100, gamma=1, kernel=rbf;, score=0.947 total time=   0.0s\n",
      "[CV 1/15] END .....C=100, gamma=0.5, kernel=rbf;, score=0.895 total time=   0.0s\n",
      "[CV 2/15] END .....C=100, gamma=0.5, kernel=rbf;, score=0.944 total time=   0.0s\n",
      "[CV 3/15] END .....C=100, gamma=0.5, kernel=rbf;, score=0.944 total time=   0.0s\n",
      "[CV 4/15] END .....C=100, gamma=0.5, kernel=rbf;, score=0.889 total time=   0.0s\n",
      "[CV 5/15] END .....C=100, gamma=0.5, kernel=rbf;, score=0.889 total time=   0.0s\n",
      "[CV 6/15] END .....C=100, gamma=0.5, kernel=rbf;, score=0.889 total time=   0.0s\n",
      "[CV 7/15] END .....C=100, gamma=0.5, kernel=rbf;, score=0.889 total time=   0.0s\n",
      "[CV 8/15] END .....C=100, gamma=0.5, kernel=rbf;, score=0.944 total time=   0.0s\n",
      "[CV 9/15] END .....C=100, gamma=0.5, kernel=rbf;, score=0.842 total time=   0.0s\n",
      "[CV 10/15] END ....C=100, gamma=0.5, kernel=rbf;, score=0.895 total time=   0.0s\n",
      "[CV 11/15] END ....C=100, gamma=0.5, kernel=rbf;, score=0.895 total time=   0.0s\n",
      "[CV 12/15] END ....C=100, gamma=0.5, kernel=rbf;, score=0.789 total time=   0.0s\n",
      "[CV 13/15] END ....C=100, gamma=0.5, kernel=rbf;, score=0.789 total time=   0.0s\n",
      "[CV 14/15] END ....C=100, gamma=0.5, kernel=rbf;, score=0.947 total time=   0.0s\n",
      "[CV 15/15] END ....C=100, gamma=0.5, kernel=rbf;, score=0.947 total time=   0.0s\n",
      "[CV 1/15] END ....C=100, gamma=0.25, kernel=rbf;, score=0.895 total time=   0.0s\n",
=======
      "[CV 4/15] END ......C=10, gamma=0.1, kernel=rbf;, score=0.944 total time=   0.0s\n",
      "[CV 5/15] END ......C=10, gamma=0.1, kernel=rbf;, score=0.944 total time=   0.0s\n",
      "[CV 6/15] END ......C=10, gamma=0.1, kernel=rbf;, score=0.889 total time=   0.0s\n",
      "[CV 7/15] END ......C=10, gamma=0.1, kernel=rbf;, score=0.944 total time=   0.0s\n",
      "[CV 8/15] END ......C=10, gamma=0.1, kernel=rbf;, score=0.889 total time=   0.0s\n",
      "[CV 9/15] END ......C=10, gamma=0.1, kernel=rbf;, score=0.842 total time=   0.0s\n",
      "[CV 10/15] END .....C=10, gamma=0.1, kernel=rbf;, score=0.842 total time=   0.0s\n",
      "[CV 11/15] END .....C=10, gamma=0.1, kernel=rbf;, score=0.895 total time=   0.0s\n",
      "[CV 12/15] END .....C=10, gamma=0.1, kernel=rbf;, score=0.737 total time=   0.0s\n",
      "[CV 13/15] END .....C=10, gamma=0.1, kernel=rbf;, score=0.947 total time=   0.0s\n",
      "[CV 14/15] END .....C=10, gamma=0.1, kernel=rbf;, score=0.947 total time=   0.0s\n",
      "[CV 15/15] END .....C=10, gamma=0.1, kernel=rbf;, score=1.000 total time=   0.0s\n",
      "[CV 1/15] END .....C=10, gamma=0.01, kernel=rbf;, score=0.842 total time=   0.0s\n",
      "[CV 2/15] END .....C=10, gamma=0.01, kernel=rbf;, score=0.944 total time=   0.0s\n",
      "[CV 3/15] END .....C=10, gamma=0.01, kernel=rbf;, score=1.000 total time=   0.0s\n",
      "[CV 4/15] END .....C=10, gamma=0.01, kernel=rbf;, score=0.889 total time=   0.0s\n",
      "[CV 5/15] END .....C=10, gamma=0.01, kernel=rbf;, score=1.000 total time=   0.0s\n",
      "[CV 6/15] END .....C=10, gamma=0.01, kernel=rbf;, score=0.778 total time=   0.0s\n",
      "[CV 7/15] END .....C=10, gamma=0.01, kernel=rbf;, score=0.944 total time=   0.0s\n",
      "[CV 8/15] END .....C=10, gamma=0.01, kernel=rbf;, score=0.889 total time=   0.0s\n",
      "[CV 9/15] END .....C=10, gamma=0.01, kernel=rbf;, score=0.895 total time=   0.0s\n",
      "[CV 10/15] END ....C=10, gamma=0.01, kernel=rbf;, score=0.842 total time=   0.0s\n",
      "[CV 11/15] END ....C=10, gamma=0.01, kernel=rbf;, score=0.842 total time=   0.0s\n",
      "[CV 12/15] END ....C=10, gamma=0.01, kernel=rbf;, score=0.789 total time=   0.0s\n",
      "[CV 13/15] END ....C=10, gamma=0.01, kernel=rbf;, score=0.789 total time=   0.0s\n",
      "[CV 14/15] END ....C=10, gamma=0.01, kernel=rbf;, score=1.000 total time=   0.0s\n",
      "[CV 15/15] END ....C=10, gamma=0.01, kernel=rbf;, score=0.947 total time=   0.0s\n",
      "[CV 1/15] END .......C=100, gamma=1, kernel=rbf;, score=0.895 total time=   0.0s\n",
      "[CV 2/15] END .......C=100, gamma=1, kernel=rbf;, score=0.944 total time=   0.0s\n",
      "[CV 3/15] END .......C=100, gamma=1, kernel=rbf;, score=1.000 total time=   0.0s\n",
      "[CV 4/15] END .......C=100, gamma=1, kernel=rbf;, score=0.944 total time=   0.0s\n",
      "[CV 5/15] END .......C=100, gamma=1, kernel=rbf;, score=0.889 total time=   0.0s\n",
      "[CV 6/15] END .......C=100, gamma=1, kernel=rbf;, score=0.889 total time=   0.0s\n",
      "[CV 7/15] END .......C=100, gamma=1, kernel=rbf;, score=0.889 total time=   0.0s\n",
      "[CV 8/15] END .......C=100, gamma=1, kernel=rbf;, score=0.944 total time=   0.0s\n",
      "[CV 9/15] END .......C=100, gamma=1, kernel=rbf;, score=0.842 total time=   0.0s\n",
      "[CV 10/15] END ......C=100, gamma=1, kernel=rbf;, score=0.789 total time=   0.0s\n",
      "[CV 11/15] END ......C=100, gamma=1, kernel=rbf;, score=0.842 total time=   0.0s\n",
      "[CV 12/15] END ......C=100, gamma=1, kernel=rbf;, score=0.842 total time=   0.0s\n",
      "[CV 13/15] END ......C=100, gamma=1, kernel=rbf;, score=0.684 total time=   0.0s\n",
      "[CV 14/15] END ......C=100, gamma=1, kernel=rbf;, score=0.895 total time=   0.0s\n",
      "[CV 15/15] END ......C=100, gamma=1, kernel=rbf;, score=0.895 total time=   0.0s\n",
      "[CV 1/15] END .....C=100, gamma=0.5, kernel=rbf;, score=0.895 total time=   0.0s\n",
      "[CV 2/15] END .....C=100, gamma=0.5, kernel=rbf;, score=0.944 total time=   0.0s\n",
      "[CV 3/15] END .....C=100, gamma=0.5, kernel=rbf;, score=1.000 total time=   0.0s\n",
      "[CV 4/15] END .....C=100, gamma=0.5, kernel=rbf;, score=0.889 total time=   0.0s\n",
      "[CV 5/15] END .....C=100, gamma=0.5, kernel=rbf;, score=0.944 total time=   0.0s\n",
      "[CV 6/15] END .....C=100, gamma=0.5, kernel=rbf;, score=0.944 total time=   0.0s\n",
      "[CV 7/15] END .....C=100, gamma=0.5, kernel=rbf;, score=0.944 total time=   0.0s\n",
      "[CV 8/15] END .....C=100, gamma=0.5, kernel=rbf;, score=0.889 total time=   0.0s\n",
      "[CV 9/15] END .....C=100, gamma=0.5, kernel=rbf;, score=0.842 total time=   0.0s\n",
      "[CV 10/15] END ....C=100, gamma=0.5, kernel=rbf;, score=0.895 total time=   0.0s\n",
      "[CV 11/15] END ....C=100, gamma=0.5, kernel=rbf;, score=0.842 total time=   0.0s\n",
      "[CV 12/15] END ....C=100, gamma=0.5, kernel=rbf;, score=0.895 total time=   0.0s\n",
      "[CV 13/15] END ....C=100, gamma=0.5, kernel=rbf;, score=0.789 total time=   0.0s\n",
      "[CV 14/15] END ....C=100, gamma=0.5, kernel=rbf;, score=1.000 total time=   0.0s\n",
      "[CV 15/15] END ....C=100, gamma=0.5, kernel=rbf;, score=0.947 total time=   0.0s\n",
      "[CV 1/15] END ....C=100, gamma=0.25, kernel=rbf;, score=0.947 total time=   0.0s\n",
>>>>>>> 59e60ae (Edited the markdowns and included k-fold in SVM)
      "[CV 2/15] END ....C=100, gamma=0.25, kernel=rbf;, score=0.944 total time=   0.0s\n",
      "[CV 3/15] END ....C=100, gamma=0.25, kernel=rbf;, score=1.000 total time=   0.0s\n",
      "[CV 4/15] END ....C=100, gamma=0.25, kernel=rbf;, score=0.889 total time=   0.0s\n",
      "[CV 5/15] END ....C=100, gamma=0.25, kernel=rbf;, score=0.944 total time=   0.0s\n",
<<<<<<< HEAD
      "[CV 6/15] END ....C=100, gamma=0.25, kernel=rbf;, score=0.833 total time=   0.0s\n",
=======
      "[CV 6/15] END ....C=100, gamma=0.25, kernel=rbf;, score=0.889 total time=   0.0s\n",
>>>>>>> 59e60ae (Edited the markdowns and included k-fold in SVM)
      "[CV 7/15] END ....C=100, gamma=0.25, kernel=rbf;, score=0.944 total time=   0.0s\n",
      "[CV 8/15] END ....C=100, gamma=0.25, kernel=rbf;, score=0.889 total time=   0.0s\n",
      "[CV 9/15] END ....C=100, gamma=0.25, kernel=rbf;, score=0.842 total time=   0.0s\n",
      "[CV 10/15] END ...C=100, gamma=0.25, kernel=rbf;, score=0.947 total time=   0.0s\n",
      "[CV 11/15] END ...C=100, gamma=0.25, kernel=rbf;, score=0.947 total time=   0.0s\n",
<<<<<<< HEAD
      "[CV 12/15] END ...C=100, gamma=0.25, kernel=rbf;, score=0.842 total time=   0.0s\n",
=======
      "[CV 12/15] END ...C=100, gamma=0.25, kernel=rbf;, score=0.895 total time=   0.0s\n",
>>>>>>> 59e60ae (Edited the markdowns and included k-fold in SVM)
      "[CV 13/15] END ...C=100, gamma=0.25, kernel=rbf;, score=0.789 total time=   0.0s\n",
      "[CV 14/15] END ...C=100, gamma=0.25, kernel=rbf;, score=1.000 total time=   0.0s\n",
      "[CV 15/15] END ...C=100, gamma=0.25, kernel=rbf;, score=0.947 total time=   0.0s\n",
      "[CV 1/15] END .....C=100, gamma=0.1, kernel=rbf;, score=0.947 total time=   0.0s\n",
      "[CV 2/15] END .....C=100, gamma=0.1, kernel=rbf;, score=0.889 total time=   0.0s\n",
      "[CV 3/15] END .....C=100, gamma=0.1, kernel=rbf;, score=1.000 total time=   0.0s\n",
<<<<<<< HEAD
      "[CV 4/15] END .....C=100, gamma=0.1, kernel=rbf;, score=0.889 total time=   0.0s\n",
      "[CV 5/15] END .....C=100, gamma=0.1, kernel=rbf;, score=0.944 total time=   0.0s\n",
      "[CV 6/15] END .....C=100, gamma=0.1, kernel=rbf;, score=0.833 total time=   0.0s\n",
=======
      "[CV 4/15] END .....C=100, gamma=0.1, kernel=rbf;, score=0.944 total time=   0.0s\n",
      "[CV 5/15] END .....C=100, gamma=0.1, kernel=rbf;, score=0.944 total time=   0.0s\n",
      "[CV 6/15] END .....C=100, gamma=0.1, kernel=rbf;, score=0.889 total time=   0.0s\n",
>>>>>>> 59e60ae (Edited the markdowns and included k-fold in SVM)
      "[CV 7/15] END .....C=100, gamma=0.1, kernel=rbf;, score=0.944 total time=   0.0s\n",
      "[CV 8/15] END .....C=100, gamma=0.1, kernel=rbf;, score=0.889 total time=   0.0s\n",
      "[CV 9/15] END .....C=100, gamma=0.1, kernel=rbf;, score=0.842 total time=   0.0s\n",
      "[CV 10/15] END ....C=100, gamma=0.1, kernel=rbf;, score=0.947 total time=   0.0s\n",
      "[CV 11/15] END ....C=100, gamma=0.1, kernel=rbf;, score=0.947 total time=   0.0s\n",
      "[CV 12/15] END ....C=100, gamma=0.1, kernel=rbf;, score=0.895 total time=   0.0s\n",
<<<<<<< HEAD
      "[CV 13/15] END ....C=100, gamma=0.1, kernel=rbf;, score=0.842 total time=   0.0s\n",
      "[CV 14/15] END ....C=100, gamma=0.1, kernel=rbf;, score=1.000 total time=   0.0s\n",
=======
      "[CV 13/15] END ....C=100, gamma=0.1, kernel=rbf;, score=0.895 total time=   0.0s\n",
      "[CV 14/15] END ....C=100, gamma=0.1, kernel=rbf;, score=0.947 total time=   0.0s\n",
>>>>>>> 59e60ae (Edited the markdowns and included k-fold in SVM)
      "[CV 15/15] END ....C=100, gamma=0.1, kernel=rbf;, score=0.947 total time=   0.0s\n",
      "[CV 1/15] END ....C=100, gamma=0.01, kernel=rbf;, score=0.895 total time=   0.0s\n",
      "[CV 2/15] END ....C=100, gamma=0.01, kernel=rbf;, score=0.944 total time=   0.0s\n",
      "[CV 3/15] END ....C=100, gamma=0.01, kernel=rbf;, score=1.000 total time=   0.0s\n",
<<<<<<< HEAD
      "[CV 4/15] END ....C=100, gamma=0.01, kernel=rbf;, score=0.944 total time=   0.0s\n",
=======
      "[CV 4/15] END ....C=100, gamma=0.01, kernel=rbf;, score=1.000 total time=   0.0s\n",
>>>>>>> 59e60ae (Edited the markdowns and included k-fold in SVM)
      "[CV 5/15] END ....C=100, gamma=0.01, kernel=rbf;, score=1.000 total time=   0.0s\n",
      "[CV 6/15] END ....C=100, gamma=0.01, kernel=rbf;, score=0.833 total time=   0.0s\n",
      "[CV 7/15] END ....C=100, gamma=0.01, kernel=rbf;, score=0.889 total time=   0.0s\n",
      "[CV 8/15] END ....C=100, gamma=0.01, kernel=rbf;, score=0.889 total time=   0.0s\n",
<<<<<<< HEAD
      "[CV 9/15] END ....C=100, gamma=0.01, kernel=rbf;, score=0.842 total time=   0.0s\n",
      "[CV 10/15] END ...C=100, gamma=0.01, kernel=rbf;, score=0.947 total time=   0.0s\n",
      "[CV 11/15] END ...C=100, gamma=0.01, kernel=rbf;, score=0.895 total time=   0.0s\n",
      "[CV 12/15] END ...C=100, gamma=0.01, kernel=rbf;, score=0.789 total time=   0.0s\n",
      "[CV 13/15] END ...C=100, gamma=0.01, kernel=rbf;, score=0.947 total time=   0.0s\n",
      "[CV 14/15] END ...C=100, gamma=0.01, kernel=rbf;, score=1.000 total time=   0.0s\n",
      "[CV 15/15] END ...C=100, gamma=0.01, kernel=rbf;, score=1.000 total time=   0.0s\n",
      "[CV 1/15] END ......C=1000, gamma=1, kernel=rbf;, score=0.947 total time=   0.0s\n",
      "[CV 2/15] END ......C=1000, gamma=1, kernel=rbf;, score=0.944 total time=   0.0s\n",
      "[CV 3/15] END ......C=1000, gamma=1, kernel=rbf;, score=1.000 total time=   0.0s\n",
      "[CV 4/15] END ......C=1000, gamma=1, kernel=rbf;, score=0.944 total time=   0.0s\n",
      "[CV 5/15] END ......C=1000, gamma=1, kernel=rbf;, score=0.944 total time=   0.0s\n",
      "[CV 6/15] END ......C=1000, gamma=1, kernel=rbf;, score=0.889 total time=   0.0s\n",
      "[CV 7/15] END ......C=1000, gamma=1, kernel=rbf;, score=0.944 total time=   0.0s\n",
      "[CV 8/15] END ......C=1000, gamma=1, kernel=rbf;, score=0.944 total time=   0.0s\n",
      "[CV 9/15] END ......C=1000, gamma=1, kernel=rbf;, score=0.842 total time=   0.0s\n",
      "[CV 10/15] END .....C=1000, gamma=1, kernel=rbf;, score=0.895 total time=   0.0s\n",
      "[CV 11/15] END .....C=1000, gamma=1, kernel=rbf;, score=0.895 total time=   0.0s\n",
      "[CV 12/15] END .....C=1000, gamma=1, kernel=rbf;, score=0.737 total time=   0.0s\n",
      "[CV 13/15] END .....C=1000, gamma=1, kernel=rbf;, score=0.842 total time=   0.0s\n",
      "[CV 14/15] END .....C=1000, gamma=1, kernel=rbf;, score=0.895 total time=   0.0s\n",
      "[CV 15/15] END .....C=1000, gamma=1, kernel=rbf;, score=0.947 total time=   0.0s\n",
      "[CV 1/15] END ....C=1000, gamma=0.5, kernel=rbf;, score=0.895 total time=   0.0s\n",
      "[CV 2/15] END ....C=1000, gamma=0.5, kernel=rbf;, score=0.944 total time=   0.0s\n",
      "[CV 3/15] END ....C=1000, gamma=0.5, kernel=rbf;, score=0.889 total time=   0.0s\n",
      "[CV 4/15] END ....C=1000, gamma=0.5, kernel=rbf;, score=0.889 total time=   0.0s\n",
      "[CV 5/15] END ....C=1000, gamma=0.5, kernel=rbf;, score=0.889 total time=   0.0s\n",
      "[CV 6/15] END ....C=1000, gamma=0.5, kernel=rbf;, score=0.889 total time=   0.0s\n",
=======
      "[CV 9/15] END ....C=100, gamma=0.01, kernel=rbf;, score=0.895 total time=   0.0s\n",
      "[CV 10/15] END ...C=100, gamma=0.01, kernel=rbf;, score=0.895 total time=   0.0s\n",
      "[CV 11/15] END ...C=100, gamma=0.01, kernel=rbf;, score=0.895 total time=   0.0s\n",
      "[CV 12/15] END ...C=100, gamma=0.01, kernel=rbf;, score=0.737 total time=   0.0s\n",
      "[CV 13/15] END ...C=100, gamma=0.01, kernel=rbf;, score=0.947 total time=   0.0s\n",
      "[CV 14/15] END ...C=100, gamma=0.01, kernel=rbf;, score=1.000 total time=   0.0s\n",
      "[CV 15/15] END ...C=100, gamma=0.01, kernel=rbf;, score=0.947 total time=   0.0s\n",
      "[CV 1/15] END ......C=1000, gamma=1, kernel=rbf;, score=0.895 total time=   0.0s\n",
      "[CV 2/15] END ......C=1000, gamma=1, kernel=rbf;, score=0.944 total time=   0.0s\n",
      "[CV 3/15] END ......C=1000, gamma=1, kernel=rbf;, score=1.000 total time=   0.0s\n",
      "[CV 4/15] END ......C=1000, gamma=1, kernel=rbf;, score=0.944 total time=   0.0s\n",
      "[CV 5/15] END ......C=1000, gamma=1, kernel=rbf;, score=0.889 total time=   0.0s\n",
      "[CV 6/15] END ......C=1000, gamma=1, kernel=rbf;, score=0.889 total time=   0.0s\n",
      "[CV 7/15] END ......C=1000, gamma=1, kernel=rbf;, score=0.889 total time=   0.0s\n",
      "[CV 8/15] END ......C=1000, gamma=1, kernel=rbf;, score=0.944 total time=   0.0s\n",
      "[CV 9/15] END ......C=1000, gamma=1, kernel=rbf;, score=0.842 total time=   0.0s\n",
      "[CV 10/15] END .....C=1000, gamma=1, kernel=rbf;, score=0.789 total time=   0.0s\n",
      "[CV 11/15] END .....C=1000, gamma=1, kernel=rbf;, score=0.842 total time=   0.0s\n",
      "[CV 12/15] END .....C=1000, gamma=1, kernel=rbf;, score=0.842 total time=   0.0s\n",
      "[CV 13/15] END .....C=1000, gamma=1, kernel=rbf;, score=0.684 total time=   0.0s\n",
      "[CV 14/15] END .....C=1000, gamma=1, kernel=rbf;, score=0.895 total time=   0.0s\n",
      "[CV 15/15] END .....C=1000, gamma=1, kernel=rbf;, score=0.895 total time=   0.0s\n",
      "[CV 1/15] END ....C=1000, gamma=0.5, kernel=rbf;, score=0.895 total time=   0.0s\n",
      "[CV 2/15] END ....C=1000, gamma=0.5, kernel=rbf;, score=0.944 total time=   0.0s\n",
      "[CV 3/15] END ....C=1000, gamma=0.5, kernel=rbf;, score=0.833 total time=   0.0s\n",
      "[CV 4/15] END ....C=1000, gamma=0.5, kernel=rbf;, score=0.889 total time=   0.0s\n",
      "[CV 5/15] END ....C=1000, gamma=0.5, kernel=rbf;, score=0.944 total time=   0.0s\n",
      "[CV 6/15] END ....C=1000, gamma=0.5, kernel=rbf;, score=0.944 total time=   0.0s\n",
>>>>>>> 59e60ae (Edited the markdowns and included k-fold in SVM)
      "[CV 7/15] END ....C=1000, gamma=0.5, kernel=rbf;, score=0.889 total time=   0.0s\n",
      "[CV 8/15] END ....C=1000, gamma=0.5, kernel=rbf;, score=0.944 total time=   0.0s\n",
      "[CV 9/15] END ....C=1000, gamma=0.5, kernel=rbf;, score=0.842 total time=   0.0s\n",
      "[CV 10/15] END ...C=1000, gamma=0.5, kernel=rbf;, score=0.842 total time=   0.0s\n",
      "[CV 11/15] END ...C=1000, gamma=0.5, kernel=rbf;, score=0.895 total time=   0.0s\n",
<<<<<<< HEAD
      "[CV 12/15] END ...C=1000, gamma=0.5, kernel=rbf;, score=0.737 total time=   0.0s\n",
      "[CV 13/15] END ...C=1000, gamma=0.5, kernel=rbf;, score=0.789 total time=   0.0s\n",
      "[CV 14/15] END ...C=1000, gamma=0.5, kernel=rbf;, score=0.947 total time=   0.0s\n",
      "[CV 15/15] END ...C=1000, gamma=0.5, kernel=rbf;, score=0.895 total time=   0.0s\n",
      "[CV 1/15] END ...C=1000, gamma=0.25, kernel=rbf;, score=0.895 total time=   0.0s\n",
      "[CV 2/15] END ...C=1000, gamma=0.25, kernel=rbf;, score=0.944 total time=   0.0s\n",
      "[CV 3/15] END ...C=1000, gamma=0.25, kernel=rbf;, score=0.833 total time=   0.0s\n",
      "[CV 4/15] END ...C=1000, gamma=0.25, kernel=rbf;, score=0.889 total time=   0.0s\n",
      "[CV 5/15] END ...C=1000, gamma=0.25, kernel=rbf;, score=0.944 total time=   0.0s\n",
      "[CV 6/15] END ...C=1000, gamma=0.25, kernel=rbf;, score=0.889 total time=   0.0s\n",
      "[CV 7/15] END ...C=1000, gamma=0.25, kernel=rbf;, score=0.889 total time=   0.0s\n",
      "[CV 8/15] END ...C=1000, gamma=0.25, kernel=rbf;, score=0.944 total time=   0.0s\n",
=======
      "[CV 12/15] END ...C=1000, gamma=0.5, kernel=rbf;, score=0.895 total time=   0.0s\n",
      "[CV 13/15] END ...C=1000, gamma=0.5, kernel=rbf;, score=0.737 total time=   0.0s\n",
      "[CV 14/15] END ...C=1000, gamma=0.5, kernel=rbf;, score=1.000 total time=   0.0s\n",
      "[CV 15/15] END ...C=1000, gamma=0.5, kernel=rbf;, score=0.895 total time=   0.0s\n",
      "[CV 1/15] END ...C=1000, gamma=0.25, kernel=rbf;, score=0.895 total time=   0.0s\n",
      "[CV 2/15] END ...C=1000, gamma=0.25, kernel=rbf;, score=0.889 total time=   0.0s\n",
      "[CV 3/15] END ...C=1000, gamma=0.25, kernel=rbf;, score=1.000 total time=   0.0s\n",
      "[CV 4/15] END ...C=1000, gamma=0.25, kernel=rbf;, score=0.889 total time=   0.0s\n",
      "[CV 5/15] END ...C=1000, gamma=0.25, kernel=rbf;, score=0.944 total time=   0.0s\n",
      "[CV 6/15] END ...C=1000, gamma=0.25, kernel=rbf;, score=0.833 total time=   0.0s\n",
      "[CV 7/15] END ...C=1000, gamma=0.25, kernel=rbf;, score=0.889 total time=   0.0s\n",
      "[CV 8/15] END ...C=1000, gamma=0.25, kernel=rbf;, score=0.889 total time=   0.0s\n",
>>>>>>> 59e60ae (Edited the markdowns and included k-fold in SVM)
      "[CV 9/15] END ...C=1000, gamma=0.25, kernel=rbf;, score=0.842 total time=   0.0s\n",
      "[CV 10/15] END ..C=1000, gamma=0.25, kernel=rbf;, score=1.000 total time=   0.0s\n",
      "[CV 11/15] END ..C=1000, gamma=0.25, kernel=rbf;, score=0.842 total time=   0.0s\n",
      "[CV 12/15] END ..C=1000, gamma=0.25, kernel=rbf;, score=0.842 total time=   0.0s\n",
<<<<<<< HEAD
      "[CV 13/15] END ..C=1000, gamma=0.25, kernel=rbf;, score=0.737 total time=   0.0s\n",
      "[CV 14/15] END ..C=1000, gamma=0.25, kernel=rbf;, score=0.947 total time=   0.0s\n",
      "[CV 15/15] END ..C=1000, gamma=0.25, kernel=rbf;, score=0.895 total time=   0.0s\n",
      "[CV 1/15] END ....C=1000, gamma=0.1, kernel=rbf;, score=0.895 total time=   0.0s\n",
      "[CV 2/15] END ....C=1000, gamma=0.1, kernel=rbf;, score=0.833 total time=   0.0s\n",
      "[CV 3/15] END ....C=1000, gamma=0.1, kernel=rbf;, score=1.000 total time=   0.0s\n",
      "[CV 4/15] END ....C=1000, gamma=0.1, kernel=rbf;, score=0.889 total time=   0.0s\n",
=======
      "[CV 13/15] END ..C=1000, gamma=0.25, kernel=rbf;, score=0.789 total time=   0.0s\n",
      "[CV 14/15] END ..C=1000, gamma=0.25, kernel=rbf;, score=0.947 total time=   0.0s\n",
      "[CV 15/15] END ..C=1000, gamma=0.25, kernel=rbf;, score=0.895 total time=   0.0s\n",
      "[CV 1/15] END ....C=1000, gamma=0.1, kernel=rbf;, score=0.947 total time=   0.0s\n",
      "[CV 2/15] END ....C=1000, gamma=0.1, kernel=rbf;, score=0.944 total time=   0.0s\n",
      "[CV 3/15] END ....C=1000, gamma=0.1, kernel=rbf;, score=1.000 total time=   0.0s\n",
      "[CV 4/15] END ....C=1000, gamma=0.1, kernel=rbf;, score=0.944 total time=   0.0s\n",
>>>>>>> 59e60ae (Edited the markdowns and included k-fold in SVM)
      "[CV 5/15] END ....C=1000, gamma=0.1, kernel=rbf;, score=0.944 total time=   0.0s\n",
      "[CV 6/15] END ....C=1000, gamma=0.1, kernel=rbf;, score=0.889 total time=   0.0s\n",
      "[CV 7/15] END ....C=1000, gamma=0.1, kernel=rbf;, score=0.944 total time=   0.0s\n",
      "[CV 8/15] END ....C=1000, gamma=0.1, kernel=rbf;, score=0.889 total time=   0.0s\n",
      "[CV 9/15] END ....C=1000, gamma=0.1, kernel=rbf;, score=0.842 total time=   0.0s\n",
<<<<<<< HEAD
      "[CV 10/15] END ...C=1000, gamma=0.1, kernel=rbf;, score=1.000 total time=   0.0s\n",
=======
      "[CV 10/15] END ...C=1000, gamma=0.1, kernel=rbf;, score=0.895 total time=   0.0s\n",
>>>>>>> 59e60ae (Edited the markdowns and included k-fold in SVM)
      "[CV 11/15] END ...C=1000, gamma=0.1, kernel=rbf;, score=0.947 total time=   0.0s\n",
      "[CV 12/15] END ...C=1000, gamma=0.1, kernel=rbf;, score=0.895 total time=   0.0s\n",
      "[CV 13/15] END ...C=1000, gamma=0.1, kernel=rbf;, score=0.737 total time=   0.0s\n",
      "[CV 14/15] END ...C=1000, gamma=0.1, kernel=rbf;, score=0.947 total time=   0.0s\n",
      "[CV 15/15] END ...C=1000, gamma=0.1, kernel=rbf;, score=0.947 total time=   0.0s\n",
      "[CV 1/15] END ...C=1000, gamma=0.01, kernel=rbf;, score=0.947 total time=   0.0s\n",
      "[CV 2/15] END ...C=1000, gamma=0.01, kernel=rbf;, score=0.944 total time=   0.0s\n",
      "[CV 3/15] END ...C=1000, gamma=0.01, kernel=rbf;, score=1.000 total time=   0.0s\n",
<<<<<<< HEAD
      "[CV 4/15] END ...C=1000, gamma=0.01, kernel=rbf;, score=0.944 total time=   0.0s\n",
      "[CV 5/15] END ...C=1000, gamma=0.01, kernel=rbf;, score=0.944 total time=   0.0s\n",
      "[CV 6/15] END ...C=1000, gamma=0.01, kernel=rbf;, score=0.944 total time=   0.0s\n",
      "[CV 7/15] END ...C=1000, gamma=0.01, kernel=rbf;, score=0.889 total time=   0.0s\n",
      "[CV 8/15] END ...C=1000, gamma=0.01, kernel=rbf;, score=0.889 total time=   0.0s\n",
      "[CV 9/15] END ...C=1000, gamma=0.01, kernel=rbf;, score=0.842 total time=   0.0s\n",
      "[CV 10/15] END ..C=1000, gamma=0.01, kernel=rbf;, score=0.947 total time=   0.0s\n",
      "[CV 11/15] END ..C=1000, gamma=0.01, kernel=rbf;, score=0.947 total time=   0.0s\n",
      "[CV 12/15] END ..C=1000, gamma=0.01, kernel=rbf;, score=0.789 total time=   0.0s\n",
      "[CV 13/15] END ..C=1000, gamma=0.01, kernel=rbf;, score=0.947 total time=   0.0s\n",
      "[CV 14/15] END ..C=1000, gamma=0.01, kernel=rbf;, score=1.000 total time=   0.0s\n",
      "[CV 15/15] END ..C=1000, gamma=0.01, kernel=rbf;, score=0.947 total time=   0.0s\n",
      "[CV 1/15] END .....C=10000, gamma=1, kernel=rbf;, score=0.947 total time=   0.0s\n",
      "[CV 2/15] END .....C=10000, gamma=1, kernel=rbf;, score=0.944 total time=   0.0s\n",
      "[CV 3/15] END .....C=10000, gamma=1, kernel=rbf;, score=1.000 total time=   0.0s\n",
      "[CV 4/15] END .....C=10000, gamma=1, kernel=rbf;, score=0.944 total time=   0.0s\n",
      "[CV 5/15] END .....C=10000, gamma=1, kernel=rbf;, score=0.944 total time=   0.0s\n",
      "[CV 6/15] END .....C=10000, gamma=1, kernel=rbf;, score=0.889 total time=   0.0s\n",
      "[CV 7/15] END .....C=10000, gamma=1, kernel=rbf;, score=0.944 total time=   0.0s\n",
      "[CV 8/15] END .....C=10000, gamma=1, kernel=rbf;, score=0.944 total time=   0.0s\n",
      "[CV 9/15] END .....C=10000, gamma=1, kernel=rbf;, score=0.842 total time=   0.0s\n",
      "[CV 10/15] END ....C=10000, gamma=1, kernel=rbf;, score=0.895 total time=   0.0s\n",
      "[CV 11/15] END ....C=10000, gamma=1, kernel=rbf;, score=0.895 total time=   0.0s\n",
      "[CV 12/15] END ....C=10000, gamma=1, kernel=rbf;, score=0.737 total time=   0.0s\n",
      "[CV 13/15] END ....C=10000, gamma=1, kernel=rbf;, score=0.842 total time=   0.0s\n",
      "[CV 14/15] END ....C=10000, gamma=1, kernel=rbf;, score=0.895 total time=   0.0s\n",
      "[CV 15/15] END ....C=10000, gamma=1, kernel=rbf;, score=0.947 total time=   0.0s\n",
      "[CV 1/15] END ...C=10000, gamma=0.5, kernel=rbf;, score=0.895 total time=   0.0s\n",
      "[CV 2/15] END ...C=10000, gamma=0.5, kernel=rbf;, score=0.944 total time=   0.0s\n",
      "[CV 3/15] END ...C=10000, gamma=0.5, kernel=rbf;, score=0.889 total time=   0.0s\n",
      "[CV 4/15] END ...C=10000, gamma=0.5, kernel=rbf;, score=0.889 total time=   0.0s\n",
      "[CV 5/15] END ...C=10000, gamma=0.5, kernel=rbf;, score=0.889 total time=   0.0s\n",
      "[CV 6/15] END ...C=10000, gamma=0.5, kernel=rbf;, score=0.889 total time=   0.0s\n",
=======
      "[CV 4/15] END ...C=1000, gamma=0.01, kernel=rbf;, score=0.889 total time=   0.0s\n",
      "[CV 5/15] END ...C=1000, gamma=0.01, kernel=rbf;, score=1.000 total time=   0.0s\n",
      "[CV 6/15] END ...C=1000, gamma=0.01, kernel=rbf;, score=0.833 total time=   0.0s\n",
      "[CV 7/15] END ...C=1000, gamma=0.01, kernel=rbf;, score=0.944 total time=   0.0s\n",
      "[CV 8/15] END ...C=1000, gamma=0.01, kernel=rbf;, score=0.889 total time=   0.0s\n",
      "[CV 9/15] END ...C=1000, gamma=0.01, kernel=rbf;, score=0.895 total time=   0.0s\n",
      "[CV 10/15] END ..C=1000, gamma=0.01, kernel=rbf;, score=0.895 total time=   0.0s\n",
      "[CV 11/15] END ..C=1000, gamma=0.01, kernel=rbf;, score=0.895 total time=   0.0s\n",
      "[CV 12/15] END ..C=1000, gamma=0.01, kernel=rbf;, score=0.684 total time=   0.0s\n",
      "[CV 13/15] END ..C=1000, gamma=0.01, kernel=rbf;, score=0.947 total time=   0.0s\n",
      "[CV 14/15] END ..C=1000, gamma=0.01, kernel=rbf;, score=0.947 total time=   0.0s\n",
      "[CV 15/15] END ..C=1000, gamma=0.01, kernel=rbf;, score=0.947 total time=   0.0s\n",
      "[CV 1/15] END .....C=10000, gamma=1, kernel=rbf;, score=0.895 total time=   0.0s\n",
      "[CV 2/15] END .....C=10000, gamma=1, kernel=rbf;, score=0.944 total time=   0.0s\n",
      "[CV 3/15] END .....C=10000, gamma=1, kernel=rbf;, score=1.000 total time=   0.0s\n",
      "[CV 4/15] END .....C=10000, gamma=1, kernel=rbf;, score=0.944 total time=   0.0s\n",
      "[CV 5/15] END .....C=10000, gamma=1, kernel=rbf;, score=0.889 total time=   0.0s\n",
      "[CV 6/15] END .....C=10000, gamma=1, kernel=rbf;, score=0.889 total time=   0.0s\n",
      "[CV 7/15] END .....C=10000, gamma=1, kernel=rbf;, score=0.889 total time=   0.0s\n",
      "[CV 8/15] END .....C=10000, gamma=1, kernel=rbf;, score=0.944 total time=   0.0s\n",
      "[CV 9/15] END .....C=10000, gamma=1, kernel=rbf;, score=0.842 total time=   0.0s\n",
      "[CV 10/15] END ....C=10000, gamma=1, kernel=rbf;, score=0.789 total time=   0.0s\n",
      "[CV 11/15] END ....C=10000, gamma=1, kernel=rbf;, score=0.842 total time=   0.0s\n",
      "[CV 12/15] END ....C=10000, gamma=1, kernel=rbf;, score=0.842 total time=   0.0s\n",
      "[CV 13/15] END ....C=10000, gamma=1, kernel=rbf;, score=0.684 total time=   0.0s\n",
      "[CV 14/15] END ....C=10000, gamma=1, kernel=rbf;, score=0.895 total time=   0.0s\n",
      "[CV 15/15] END ....C=10000, gamma=1, kernel=rbf;, score=0.895 total time=   0.0s\n",
      "[CV 1/15] END ...C=10000, gamma=0.5, kernel=rbf;, score=0.895 total time=   0.0s\n",
      "[CV 2/15] END ...C=10000, gamma=0.5, kernel=rbf;, score=0.944 total time=   0.0s\n",
      "[CV 3/15] END ...C=10000, gamma=0.5, kernel=rbf;, score=0.833 total time=   0.0s\n",
      "[CV 4/15] END ...C=10000, gamma=0.5, kernel=rbf;, score=0.889 total time=   0.0s\n",
      "[CV 5/15] END ...C=10000, gamma=0.5, kernel=rbf;, score=0.944 total time=   0.0s\n",
      "[CV 6/15] END ...C=10000, gamma=0.5, kernel=rbf;, score=0.944 total time=   0.0s\n",
>>>>>>> 59e60ae (Edited the markdowns and included k-fold in SVM)
      "[CV 7/15] END ...C=10000, gamma=0.5, kernel=rbf;, score=0.889 total time=   0.0s\n",
      "[CV 8/15] END ...C=10000, gamma=0.5, kernel=rbf;, score=0.944 total time=   0.0s\n",
      "[CV 9/15] END ...C=10000, gamma=0.5, kernel=rbf;, score=0.842 total time=   0.0s\n",
      "[CV 10/15] END ..C=10000, gamma=0.5, kernel=rbf;, score=0.842 total time=   0.0s\n",
      "[CV 11/15] END ..C=10000, gamma=0.5, kernel=rbf;, score=0.895 total time=   0.0s\n",
<<<<<<< HEAD
      "[CV 12/15] END ..C=10000, gamma=0.5, kernel=rbf;, score=0.737 total time=   0.0s\n",
      "[CV 13/15] END ..C=10000, gamma=0.5, kernel=rbf;, score=0.789 total time=   0.0s\n",
      "[CV 14/15] END ..C=10000, gamma=0.5, kernel=rbf;, score=0.947 total time=   0.0s\n",
      "[CV 15/15] END ..C=10000, gamma=0.5, kernel=rbf;, score=0.895 total time=   0.0s\n",
      "[CV 1/15] END ..C=10000, gamma=0.25, kernel=rbf;, score=0.842 total time=   0.0s\n",
      "[CV 2/15] END ..C=10000, gamma=0.25, kernel=rbf;, score=0.944 total time=   0.0s\n",
      "[CV 3/15] END ..C=10000, gamma=0.25, kernel=rbf;, score=0.833 total time=   0.0s\n",
      "[CV 4/15] END ..C=10000, gamma=0.25, kernel=rbf;, score=0.889 total time=   0.0s\n",
      "[CV 5/15] END ..C=10000, gamma=0.25, kernel=rbf;, score=0.944 total time=   0.0s\n",
      "[CV 6/15] END ..C=10000, gamma=0.25, kernel=rbf;, score=0.889 total time=   0.0s\n",
      "[CV 7/15] END ..C=10000, gamma=0.25, kernel=rbf;, score=0.889 total time=   0.0s\n",
      "[CV 8/15] END ..C=10000, gamma=0.25, kernel=rbf;, score=0.944 total time=   0.0s\n",
      "[CV 9/15] END ..C=10000, gamma=0.25, kernel=rbf;, score=0.789 total time=   0.0s\n",
      "[CV 10/15] END .C=10000, gamma=0.25, kernel=rbf;, score=0.947 total time=   0.0s\n",
      "[CV 11/15] END .C=10000, gamma=0.25, kernel=rbf;, score=0.842 total time=   0.0s\n",
      "[CV 12/15] END .C=10000, gamma=0.25, kernel=rbf;, score=0.895 total time=   0.0s\n",
      "[CV 13/15] END .C=10000, gamma=0.25, kernel=rbf;, score=0.737 total time=   0.0s\n",
      "[CV 14/15] END .C=10000, gamma=0.25, kernel=rbf;, score=0.947 total time=   0.0s\n",
      "[CV 15/15] END .C=10000, gamma=0.25, kernel=rbf;, score=0.895 total time=   0.0s\n",
      "[CV 1/15] END ...C=10000, gamma=0.1, kernel=rbf;, score=0.895 total time=   0.0s\n",
      "[CV 2/15] END ...C=10000, gamma=0.1, kernel=rbf;, score=0.778 total time=   0.0s\n",
      "[CV 3/15] END ...C=10000, gamma=0.1, kernel=rbf;, score=0.944 total time=   0.0s\n",
      "[CV 4/15] END ...C=10000, gamma=0.1, kernel=rbf;, score=0.889 total time=   0.0s\n",
      "[CV 5/15] END ...C=10000, gamma=0.1, kernel=rbf;, score=1.000 total time=   0.0s\n",
      "[CV 6/15] END ...C=10000, gamma=0.1, kernel=rbf;, score=0.778 total time=   0.0s\n",
      "[CV 7/15] END ...C=10000, gamma=0.1, kernel=rbf;, score=0.833 total time=   0.0s\n",
      "[CV 8/15] END ...C=10000, gamma=0.1, kernel=rbf;, score=0.889 total time=   0.0s\n",
      "[CV 9/15] END ...C=10000, gamma=0.1, kernel=rbf;, score=0.895 total time=   0.0s\n",
      "[CV 10/15] END ..C=10000, gamma=0.1, kernel=rbf;, score=1.000 total time=   0.0s\n",
      "[CV 11/15] END ..C=10000, gamma=0.1, kernel=rbf;, score=0.842 total time=   0.0s\n",
      "[CV 12/15] END ..C=10000, gamma=0.1, kernel=rbf;, score=0.842 total time=   0.0s\n",
      "[CV 13/15] END ..C=10000, gamma=0.1, kernel=rbf;, score=0.789 total time=   0.0s\n",
      "[CV 14/15] END ..C=10000, gamma=0.1, kernel=rbf;, score=0.947 total time=   0.0s\n",
      "[CV 15/15] END ..C=10000, gamma=0.1, kernel=rbf;, score=0.842 total time=   0.0s\n",
      "[CV 1/15] END ..C=10000, gamma=0.01, kernel=rbf;, score=0.947 total time=   0.0s\n",
      "[CV 2/15] END ..C=10000, gamma=0.01, kernel=rbf;, score=0.944 total time=   0.0s\n",
      "[CV 3/15] END ..C=10000, gamma=0.01, kernel=rbf;, score=1.000 total time=   0.0s\n",
      "[CV 4/15] END ..C=10000, gamma=0.01, kernel=rbf;, score=0.944 total time=   0.0s\n",
=======
      "[CV 12/15] END ..C=10000, gamma=0.5, kernel=rbf;, score=0.895 total time=   0.0s\n",
      "[CV 13/15] END ..C=10000, gamma=0.5, kernel=rbf;, score=0.737 total time=   0.0s\n",
      "[CV 14/15] END ..C=10000, gamma=0.5, kernel=rbf;, score=1.000 total time=   0.0s\n",
      "[CV 15/15] END ..C=10000, gamma=0.5, kernel=rbf;, score=0.895 total time=   0.0s\n",
      "[CV 1/15] END ..C=10000, gamma=0.25, kernel=rbf;, score=0.842 total time=   0.0s\n",
      "[CV 2/15] END ..C=10000, gamma=0.25, kernel=rbf;, score=0.778 total time=   0.0s\n",
      "[CV 3/15] END ..C=10000, gamma=0.25, kernel=rbf;, score=0.889 total time=   0.0s\n",
      "[CV 4/15] END ..C=10000, gamma=0.25, kernel=rbf;, score=0.833 total time=   0.0s\n",
      "[CV 5/15] END ..C=10000, gamma=0.25, kernel=rbf;, score=0.944 total time=   0.0s\n",
      "[CV 6/15] END ..C=10000, gamma=0.25, kernel=rbf;, score=0.889 total time=   0.0s\n",
      "[CV 7/15] END ..C=10000, gamma=0.25, kernel=rbf;, score=0.778 total time=   0.0s\n",
      "[CV 8/15] END ..C=10000, gamma=0.25, kernel=rbf;, score=0.944 total time=   0.0s\n",
      "[CV 9/15] END ..C=10000, gamma=0.25, kernel=rbf;, score=0.842 total time=   0.0s\n",
      "[CV 10/15] END .C=10000, gamma=0.25, kernel=rbf;, score=0.895 total time=   0.0s\n",
      "[CV 11/15] END .C=10000, gamma=0.25, kernel=rbf;, score=0.947 total time=   0.0s\n",
      "[CV 12/15] END .C=10000, gamma=0.25, kernel=rbf;, score=0.895 total time=   0.0s\n",
      "[CV 13/15] END .C=10000, gamma=0.25, kernel=rbf;, score=0.737 total time=   0.0s\n",
      "[CV 14/15] END .C=10000, gamma=0.25, kernel=rbf;, score=0.947 total time=   0.0s\n",
      "[CV 15/15] END .C=10000, gamma=0.25, kernel=rbf;, score=0.842 total time=   0.0s\n",
      "[CV 1/15] END ...C=10000, gamma=0.1, kernel=rbf;, score=0.947 total time=   0.1s\n",
      "[CV 2/15] END ...C=10000, gamma=0.1, kernel=rbf;, score=0.889 total time=   0.1s\n",
      "[CV 3/15] END ...C=10000, gamma=0.1, kernel=rbf;, score=0.944 total time=   0.1s\n",
      "[CV 4/15] END ...C=10000, gamma=0.1, kernel=rbf;, score=0.944 total time=   0.1s\n",
      "[CV 5/15] END ...C=10000, gamma=0.1, kernel=rbf;, score=0.944 total time=   0.1s\n",
      "[CV 6/15] END ...C=10000, gamma=0.1, kernel=rbf;, score=0.889 total time=   0.1s\n",
      "[CV 7/15] END ...C=10000, gamma=0.1, kernel=rbf;, score=0.944 total time=   0.1s\n",
      "[CV 8/15] END ...C=10000, gamma=0.1, kernel=rbf;, score=0.889 total time=   0.1s\n",
      "[CV 9/15] END ...C=10000, gamma=0.1, kernel=rbf;, score=0.895 total time=   0.2s\n",
      "[CV 10/15] END ..C=10000, gamma=0.1, kernel=rbf;, score=1.000 total time=   0.1s\n",
      "[CV 11/15] END ..C=10000, gamma=0.1, kernel=rbf;, score=0.947 total time=   0.1s\n",
      "[CV 12/15] END ..C=10000, gamma=0.1, kernel=rbf;, score=0.895 total time=   0.1s\n",
      "[CV 13/15] END ..C=10000, gamma=0.1, kernel=rbf;, score=0.789 total time=   0.1s\n",
      "[CV 14/15] END ..C=10000, gamma=0.1, kernel=rbf;, score=0.947 total time=   0.1s\n",
      "[CV 15/15] END ..C=10000, gamma=0.1, kernel=rbf;, score=0.947 total time=   0.1s\n",
      "[CV 1/15] END ..C=10000, gamma=0.01, kernel=rbf;, score=0.947 total time=   0.0s\n",
      "[CV 2/15] END ..C=10000, gamma=0.01, kernel=rbf;, score=0.889 total time=   0.1s\n",
      "[CV 3/15] END ..C=10000, gamma=0.01, kernel=rbf;, score=1.000 total time=   0.0s\n",
      "[CV 4/15] END ..C=10000, gamma=0.01, kernel=rbf;, score=0.889 total time=   0.0s\n",
>>>>>>> 59e60ae (Edited the markdowns and included k-fold in SVM)
      "[CV 5/15] END ..C=10000, gamma=0.01, kernel=rbf;, score=0.944 total time=   0.0s\n",
      "[CV 6/15] END ..C=10000, gamma=0.01, kernel=rbf;, score=0.889 total time=   0.0s\n",
      "[CV 7/15] END ..C=10000, gamma=0.01, kernel=rbf;, score=0.889 total time=   0.0s\n",
      "[CV 8/15] END ..C=10000, gamma=0.01, kernel=rbf;, score=0.944 total time=   0.0s\n",
      "[CV 9/15] END ..C=10000, gamma=0.01, kernel=rbf;, score=0.842 total time=   0.0s\n",
      "[CV 10/15] END .C=10000, gamma=0.01, kernel=rbf;, score=0.947 total time=   0.0s\n",
      "[CV 11/15] END .C=10000, gamma=0.01, kernel=rbf;, score=0.947 total time=   0.0s\n",
      "[CV 12/15] END .C=10000, gamma=0.01, kernel=rbf;, score=0.895 total time=   0.0s\n",
<<<<<<< HEAD
      "[CV 13/15] END .C=10000, gamma=0.01, kernel=rbf;, score=0.895 total time=   0.0s\n",
      "[CV 14/15] END .C=10000, gamma=0.01, kernel=rbf;, score=1.000 total time=   0.0s\n",
      "[CV 15/15] END .C=10000, gamma=0.01, kernel=rbf;, score=0.947 total time=   0.0s\n",
      "{'C': 1, 'gamma': 0.1, 'kernel': 'rbf'}\n",
      "0.9319688109161794\n"
=======
      "[CV 13/15] END .C=10000, gamma=0.01, kernel=rbf;, score=0.895 total time=   0.1s\n",
      "[CV 14/15] END .C=10000, gamma=0.01, kernel=rbf;, score=0.947 total time=   0.0s\n",
      "[CV 15/15] END .C=10000, gamma=0.01, kernel=rbf;, score=0.947 total time=   0.0s\n",
      "{'C': 1, 'gamma': 0.25, 'kernel': 'rbf'}\n",
      "0.9321637426900585\n"
>>>>>>> 59e60ae (Edited the markdowns and included k-fold in SVM)
     ]
    }
   ],
   "source": [
    "#grid search\n",
    "param_grid = {\n",
    "    'C': [1, 10, 100, 1000, 10000],\n",
    "    'gamma': [1, 0.5, 0.25, 0.1, 0.01],\n",
    "    'kernel': ['rbf']\n",
    "}\n",
    "\n",
    "grid = GridSearchCV(SVC(), param_grid, refit=True, verbose=4, cv=15, scoring='recall')\n",
    "grid.fit(x_train, y_train)\n",
    "print(grid.best_params_)\n",
    "print(grid.best_score_)"
   ]
  },
  {
   "cell_type": "markdown",
   "metadata": {},
   "source": [
<<<<<<< HEAD
    "**Step 4:** Model Training.\n",
    "\n",
    "Here the model is trained on the previously made training dataset. Afterwards the model is used to predict machine failure in the test data."
=======
    "**Step 4**: Loading the Model and K-fold Cross Validation\n",
    "\n",
    "Here Support vector machine(SVM) model is loaded and trained and evaluated using k-fold cross validation to prevent overfitting to the initial train/test split of the dataset."
>>>>>>> 59e60ae (Edited the markdowns and included k-fold in SVM)
   ]
  },
  {
   "cell_type": "code",
<<<<<<< HEAD
   "execution_count": 17,
   "metadata": {},
   "outputs": [],
   "source": [
    "SVM_model=SVC(C=1, gamma=0.1, kernel='rbf')\n",
    "SVM_model.fit(x_train, y_train)\n",
    "y_pred = SVM_model.predict(x_test)"
=======
   "execution_count": 16,
   "metadata": {},
   "outputs": [
    {
     "name": "stdout",
     "output_type": "stream",
     "text": [
      "Cross-validation accuracies: [0.942, 0.9205, 0.934, 0.9375, 0.9365]\n",
      "Mean CV Accuracy: 0.9340999999999999\n",
      "CV Standard Deviation: 0.007275987905432493\n"
     ]
    }
   ],
   "source": [
    "SVM_model = SVC(C=1000, gamma=0.1, kernel='rbf')\n",
    "\n",
    "\n",
    "# Initialize StratifiedKFold\n",
    "skf = StratifiedKFold(n_splits=5, shuffle=True, random_state=42)\n",
    "\n",
    "# Store results for each fold\n",
    "cv_accuracies = []\n",
    "\n",
    "for train_index, val_index in skf.split(x, y):\n",
    "    # Split into training and validation sets\n",
    "    X_train_fold, X_val_fold = x.iloc[train_index], x.iloc[val_index]\n",
    "    y_train_fold, y_val_fold = y.iloc[train_index], y.iloc[val_index]\n",
    "\n",
    "    # Apply undersampling to training data\n",
    "    undersampler = RandomUnderSampler(random_state=42)\n",
    "    X_train_resampled, y_train_resampled = undersampler.fit_resample(X_train_fold, y_train_fold)\n",
    "\n",
    "    # Train the model\n",
    "    SVM_model.fit(X_train_resampled, y_train_resampled)\n",
    "\n",
    "    # Validate the model\n",
    "    y_val_pred = SVM_model.predict(X_val_fold)\n",
    "    accuracy = accuracy_score(y_val_fold, y_val_pred)\n",
    "    cv_accuracies.append(accuracy)\n",
    "\n",
    "# Print cross-validation results\n",
    "print(\"Cross-validation accuracies:\", cv_accuracies)\n",
    "print(\"Mean CV Accuracy:\", np.mean(cv_accuracies))\n",
    "print(\"CV Standard Deviation:\", np.std(cv_accuracies))"
>>>>>>> 59e60ae (Edited the markdowns and included k-fold in SVM)
   ]
  },
  {
   "cell_type": "markdown",
   "metadata": {},
   "source": [
<<<<<<< HEAD
    "**Step 5:** Model Evaluation\n",
=======
    "**Step 5**: Final Model Training.\n",
    "\n",
    "Here the model is trained on the previously made training dataset. Afterwards the model is used to predict machine failure in the test data.\n"
   ]
  },
  {
   "cell_type": "code",
   "execution_count": 17,
   "metadata": {},
   "outputs": [
    {
     "name": "stdout",
     "output_type": "stream",
     "text": [
      "\n",
      "Classification Report:\n",
      "              precision    recall  f1-score   support\n",
      "\n",
      "           0       1.00      0.90      0.94      1939\n",
      "           1       0.22      0.89      0.35        61\n",
      "\n",
      "    accuracy                           0.90      2000\n",
      "   macro avg       0.61      0.89      0.65      2000\n",
      "weighted avg       0.97      0.90      0.93      2000\n",
      "\n",
      "\n",
      "Accuracy Score:\n",
      "0.898\n"
     ]
    }
   ],
   "source": [
    "SVM_model.fit(x_train, y_train)\n",
    "y_pred = SVM_model.predict(x_test)\n",
    "\n",
    "print(\"\\nClassification Report:\")\n",
    "print(classification_report(y_test, y_pred))\n",
    "\n",
    "print(\"\\nAccuracy Score:\")\n",
    "print(accuracy_score(y_test, y_pred))"
   ]
  },
  {
   "cell_type": "markdown",
   "metadata": {},
   "source": [
    "**Step 6**: Model Evaluation\n",
>>>>>>> 59e60ae (Edited the markdowns and included k-fold in SVM)
    "\n",
    "Finally the model is evaluated with a classification report, confusion matrix, ROC curve and a precision-recall chart."
   ]
  },
  {
   "cell_type": "code",
   "execution_count": 18,
   "metadata": {},
   "outputs": [
    {
     "name": "stdout",
     "output_type": "stream",
     "text": [
      "\n",
      "Classification Report:\n",
      "              precision    recall  f1-score   support\n",
      "\n",
<<<<<<< HEAD
      "           0       1.00      0.86      0.92      1939\n",
      "           1       0.17      0.92      0.29        61\n",
      "\n",
      "    accuracy                           0.86      2000\n",
      "   macro avg       0.58      0.89      0.61      2000\n",
      "weighted avg       0.97      0.86      0.90      2000\n",
=======
      "           0       1.00      0.90      0.94      1939\n",
      "           1       0.22      0.89      0.35        61\n",
      "\n",
      "    accuracy                           0.90      2000\n",
      "   macro avg       0.61      0.89      0.65      2000\n",
      "weighted avg       0.97      0.90      0.93      2000\n",
>>>>>>> 59e60ae (Edited the markdowns and included k-fold in SVM)
      "\n"
     ]
    },
    {
     "data": {
<<<<<<< HEAD
      "image/png": "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",
=======
      "image/png": "iVBORw0KGgoAAAANSUhEUgAAApIAAAIjCAYAAACwHvu2AAAAOXRFWHRTb2Z0d2FyZQBNYXRwbG90bGliIHZlcnNpb24zLjkuMiwgaHR0cHM6Ly9tYXRwbG90bGliLm9yZy8hTgPZAAAACXBIWXMAAA9hAAAPYQGoP6dpAABUtElEQVR4nO3deVxV1d7H8e85KogokwrIvYqa5pxjGTkniWNO3fLGVSzLMskxM7o5VqLkbCqZlVZaVg6llkmQkkpmKGpmOEeloOWAaAzCef7w8dxOOMCW40HO5/289uvVXnvttX/n3Mf89Vtrr2OyWCwWAQAAAIVkdnQAAAAAuD2RSAIAAMAQEkkAAAAYQiIJAAAAQ0gkAQAAYAiJJAAAAAwhkQQAAIAhJJIAAAAwhEQSAAAAhpBIAriugwcPqlOnTvL09JTJZNKaNWuKdPxjx47JZDJpyZIlRTru7ax9+/Zq3769o8MAgBsikQRuA4cPH9ZTTz2lmjVrqmzZsvLw8FCrVq00Z84c/fnnn3Z9dlhYmPbu3atXX31V7733nlq0aGHX591KAwcOlMlkkoeHx1W/x4MHD8pkMslkMmn69OmFHv/48eOaOHGikpKSiiBaACh+Sjs6AADXt379ev3rX/+Sq6urBgwYoIYNGyo7O1tbtmzRmDFjtG/fPi1atMguz/7zzz+VkJCg//73vwoPD7fLMwIDA/Xnn3+qTJkydhn/RkqXLq2LFy9q7dq1evjhh22uLVu2TGXLllVmZqahsY8fP65JkyapevXqatKkSYHv27hxo6HnAcCtRiIJFGNHjx5Vv379FBgYqLi4OFWpUsV6bejQoTp06JDWr19vt+efOnVKkuTl5WW3Z5hMJpUtW9Zu49+Iq6urWrVqpQ8++CBfIrl8+XJ169ZNK1euvCWxXLx4UeXKlZOLi8steR4A3CymtoFiLCoqShkZGXrrrbdsksgratWqpeHDh1vPL126pJdffll33HGHXF1dVb16db344ovKysqyua969erq3r27tmzZonvuuUdly5ZVzZo19e6771r7TJw4UYGBgZKkMWPGyGQyqXr16pIuTwlf+ee/mjhxokwmk01bTEyMWrduLS8vL5UvX1516tTRiy++aL1+rTWScXFxatOmjdzd3eXl5aWePXtq//79V33eoUOHNHDgQHl5ecnT01OPPfaYLl68eO0v9m8effRRffHFFzp79qy1bceOHTp48KAeffTRfP1Pnz6t5557To0aNVL58uXl4eGhLl26aPfu3dY+mzZt0t133y1Jeuyxx6xT5Fc+Z/v27dWwYUMlJiaqbdu2KleunPV7+fsaybCwMJUtWzbf5w8JCZG3t7eOHz9e4M8KAEWJRBIoxtauXauaNWvqvvvuK1D/J554QuPHj1ezZs00a9YstWvXTpGRkerXr1++vocOHdJDDz2kBx54QDNmzJC3t7cGDhyoffv2SZL69OmjWbNmSZL+/e9/67333tPs2bMLFf++ffvUvXt3ZWVlafLkyZoxY4YefPBBbd269br3ffXVVwoJCdHJkyc1ceJEjRo1Stu2bVOrVq107NixfP0ffvhhnT9/XpGRkXr44Ye1ZMkSTZo0qcBx9unTRyaTSatWrbK2LV++XHXr1lWzZs3y9T9y5IjWrFmj7t27a+bMmRozZoz27t2rdu3aWZO6evXqafLkyZKkwYMH67333tN7772ntm3bWsf5448/1KVLFzVp0kSzZ89Whw4drhrfnDlzVLlyZYWFhSk3N1eS9MYbb2jjxo2aN2+eAgICCvxZAaBIWQAUS+fOnbNIsvTs2bNA/ZOSkiySLE888YRN+3PPPWeRZImLi7O2BQYGWiRZ4uPjrW0nT560uLq6WkaPHm1tO3r0qEWS5bXXXrMZMywszBIYGJgvhgkTJlj++q+VWbNmWSRZTp06dc24rzzjnXfesbY1adLE4uvra/njjz+sbbt377aYzWbLgAED8j3v8ccftxmzd+/elooVK17zmX/9HO7u7haLxWJ56KGHLB07drRYLBZLbm6uxd/f3zJp0qSrfgeZmZmW3NzcfJ/D1dXVMnnyZGvbjh078n22K9q1a2eRZImOjr7qtXbt2tm0ffnllxZJlldeecVy5MgRS/ny5S29evW64WcEAHuiIgkUU+np6ZKkChUqFKj/559/LkkaNWqUTfvo0aMlKd9ayvr166tNmzbW88qVK6tOnTo6cuSI4Zj/7srayk8//VR5eXkFuufEiRNKSkrSwIED5ePjY22/66679MADD1g/5189/fTTNudt2rTRH3/8Yf0OC+LRRx/Vpk2blJqaqri4OKWmpl51Wlu6vK7SbL78r8/c3Fz98ccf1mn7nTt3FviZrq6ueuyxxwrUt1OnTnrqqac0efJk9enTR2XLltUbb7xR4GcBgD2QSALFlIeHhyTp/PnzBer/888/y2w2q1atWjbt/v7+8vLy0s8//2zTXq1atXxjeHt768yZMwYjzu+RRx5Rq1at9MQTT8jPz0/9+vXTRx99dN2k8kqcderUyXetXr16+v3333XhwgWb9r9/Fm9vb0kq1Gfp2rWrKlSooBUrVmjZsmW6++67832XV+Tl5WnWrFmqXbu2XF1dValSJVWuXFl79uzRuXPnCvzMf/zjH4V6sWb69Ony8fFRUlKS5s6dK19f3wLfCwD2QCIJFFMeHh4KCAjQDz/8UKj7/v6yy7WUKlXqqu0Wi8XwM66s37vCzc1N8fHx+uqrr9S/f3/t2bNHjzzyiB544IF8fW/GzXyWK1xdXdWnTx8tXbpUq1evvmY1UpKmTJmiUaNGqW3btnr//ff15ZdfKiYmRg0aNChw5VW6/P0Uxq5du3Ty5ElJ0t69ewt1LwDYA4kkUIx1795dhw8fVkJCwg37BgYGKi8vTwcPHrRpT0tL09mzZ61vYBcFb29vmzecr/h71VOSzGazOnbsqJkzZ+rHH3/Uq6++qri4OH399ddXHftKnMnJyfmu/fTTT6pUqZLc3d1v7gNcw6OPPqpdu3bp/PnzV31B6YpPPvlEHTp00FtvvaV+/fqpU6dOCg4OzvedFDSpL4gLFy7oscceU/369TV48GBFRUVpx44dRTY+ABhBIgkUY88//7zc3d31xBNPKC0tLd/1w4cPa86cOZIuT81Kyvdm9cyZMyVJ3bp1K7K47rjjDp07d0579uyxtp04cUKrV6+26Xf69Ol8917ZmPvvWxJdUaVKFTVp0kRLly61Scx++OEHbdy40fo57aFDhw56+eWX9frrr8vf3/+a/UqVKpWv2vnxxx/rt99+s2m7kvBeLekurLFjxyolJUVLly7VzJkzVb16dYWFhV3zewSAW4ENyYFi7I477tDy5cv1yCOPqF69eja/bLNt2zZ9/PHHGjhwoCSpcePGCgsL06JFi3T27Fm1a9dO3333nZYuXapevXpdc2sZI/r166exY8eqd+/eGjZsmC5evKiFCxfqzjvvtHnZZPLkyYqPj1e3bt0UGBiokydPasGCBfrnP/+p1q1bX3P81157TV26dFFQUJAGDRqkP//8U/PmzZOnp6cmTpxYZJ/j78xms1566aUb9uvevbsmT56sxx57TPfdd5/27t2rZcuWqWbNmjb97rjjDnl5eSk6OloVKlSQu7u7WrZsqRo1ahQqrri4OC1YsEATJkywbkf0zjvvqH379ho3bpyioqIKNR4AFBUqkkAx9+CDD2rPnj166KGH9Omnn2ro0KF64YUXdOzYMc2YMUNz58619l28eLEmTZqkHTt2aMSIEYqLi1NERIQ+/PDDIo2pYsWKWr16tcqVK6fnn39eS5cuVWRkpHr06JEv9mrVquntt9/W0KFDNX/+fLVt21ZxcXHy9PS85vjBwcHasGGDKlasqPHjx2v69Om69957tXXr1kInYfbw4osvavTo0fryyy81fPhw7dy5U+vXr1fVqlVt+pUpU0ZLly5VqVKl9PTTT+vf//63Nm/eXKhnnT9/Xo8//riaNm2q//73v9b2Nm3aaPjw4ZoxY4a+/fbbIvlcAFBYJkthVqMDAAAA/4+KJAAAAAwhkQQAAIAhJJIAAAAwhEQSAAAAhpBIAgAAwBASSQAAABhCIgkAAABDSuQv27g1DXd0CADsJDl2hqNDAGAn1XxcHfZse+YOf+563W5jOxoVSQAAABhSIiuSAAAAhWKitmYEiSQAAIDJ5OgIbkuk3wAAADCEiiQAAABT24bwrQEAAMAQKpIAAACskTSEiiQAAAAMoSIJAADAGklD+NYAAABgCBVJAAAA1kgaQiIJAADA1LYhfGsAAAAwhIokAAAAU9uGUJEEAACAIVQkAQAAWCNpCN8aAAAADKEiCQAAwBpJQ6hIAgAAwBAqkgAAAKyRNIREEgAAgKltQ0i/AQAAYAgVSQAAAKa2DeFbAwAAgCFUJAEAAKhIGsK3BgAAAEOoSAIAAJh5a9sIKpIAAAAwhIokAAAAayQNIZEEAABgQ3JDSL8BAABgCBVJAAAAprYN4VsDAACAISSSAAAAJpP9jkKKj49Xjx49FBAQIJPJpDVr1uTrs3//fj344IPy9PSUu7u77r77bqWkpFivZ2ZmaujQoapYsaLKly+vvn37Ki0tzWaMlJQUdevWTeXKlZOvr6/GjBmjS5cuFSpWEkkAAIBi5MKFC2rcuLHmz59/1euHDx9W69atVbduXW3atEl79uzRuHHjVLZsWWufkSNHau3atfr444+1efNmHT9+XH369LFez83NVbdu3ZSdna1t27Zp6dKlWrJkicaPH1+oWE0Wi8Vi7GMWX25Nwx0dAgA7SY6d4egQANhJNR9Xhz3brdNrdhv7z41jDN9rMpm0evVq9erVy9rWr18/lSlTRu+9995V7zl37pwqV66s5cuX66GHHpIk/fTTT6pXr54SEhJ077336osvvlD37t11/Phx+fn5SZKio6M1duxYnTp1Si4uLgWKj4okAACAHWVlZSk9Pd3myMrKMjRWXl6e1q9frzvvvFMhISHy9fVVy5Ytbaa/ExMTlZOTo+DgYGtb3bp1Va1aNSUkJEiSEhIS1KhRI2sSKUkhISFKT0/Xvn37ChwPiSQAAIAd10hGRkbK09PT5oiMjDQU5smTJ5WRkaGpU6eqc+fO2rhxo3r37q0+ffpo8+bNkqTU1FS5uLjIy8vL5l4/Pz+lpqZa+/w1ibxy/cq1gmL7HwAAADtu/xMREaFRo0bZtLm6GpvGz8vLkyT17NlTI0eOlCQ1adJE27ZtU3R0tNq1a3dzwRYSFUkAAAA7cnV1lYeHh81hNJGsVKmSSpcurfr169u016tXz/rWtr+/v7Kzs3X27FmbPmlpafL397f2+ftb3FfOr/QpCBJJAACAYrT9z/W4uLjo7rvvVnJysk37gQMHFBgYKElq3ry5ypQpo9jYWOv15ORkpaSkKCgoSJIUFBSkvXv36uTJk9Y+MTEx8vDwyJekXg9T2wAAAMVIRkaGDh06ZD0/evSokpKS5OPjo2rVqmnMmDF65JFH1LZtW3Xo0EEbNmzQ2rVrtWnTJkmSp6enBg0apFGjRsnHx0ceHh569tlnFRQUpHvvvVeS1KlTJ9WvX1/9+/dXVFSUUlNT9dJLL2no0KGFqpaSSAIAABSjn0j8/vvv1aFDB+v5lfWVYWFhWrJkiXr37q3o6GhFRkZq2LBhqlOnjlauXKnWrVtb75k1a5bMZrP69u2rrKwshYSEaMGCBdbrpUqV0rp16zRkyBAFBQXJ3d1dYWFhmjx5cqFiZR9JALcV9pEESi6H7iPZdY7dxv7z8+F2G9vRqEgCAAAU8VpGZ1F86rgAAAC4rVCRBAAAKEZrJG8nJJIAAAAkkobwrQEAAMAQKpIAAAC8bGMIFUkAAAAYQkUSAACANZKG8K0BAADAECqSAAAArJE0hIokAAAADKEiCQAAwBpJQ0gkAQAAmNo2hPQbAAAAhlCRBAAATs9ERdIQKpIAAAAwhIokAABwelQkjaEiCQAAAEOoSAIAAFCQNISKJAAAAAyhIgkAAJweaySNIZEEAABOj0TSGKa2AQAAYAgVSQAA4PSoSBpDRRIAAACGUJEEAABOj4qkMVQkAQAAYAgVSQAAAAqShlCRBAAAgCFUJAEAgNNjjaQxVCQBAABgCBVJAADg9KhIGkMiCQAAnB6JpDFMbQMAAMAQKpIAAMDpUZE0hookAAAADKEiCQAAQEHSkGJRkbx06ZK++uorvfHGGzp//rwk6fjx48rIyHBwZAAAALgWh1ckf/75Z3Xu3FkpKSnKysrSAw88oAoVKmjatGnKyspSdHS0o0MEAAAlHGskjXF4RXL48OFq0aKFzpw5Izc3N2t77969FRsb68DIAAAAcD0Or0h+88032rZtm1xcXGzaq1evrt9++81BUQEAAGdCRdIYhyeSeXl5ys3Nzdf+66+/qkKFCg6ICAAAOBsSSWMcPrXdqVMnzZ4923puMpmUkZGhCRMmqGvXro4LDAAAwAHi4+PVo0cPBQQEyGQyac2aNdfs+/TTT8tkMtnkUpJ0+vRphYaGysPDQ15eXho0aFC+l5j37NmjNm3aqGzZsqpataqioqIKHavDE8np06dr69atql+/vjIzM/Xoo49ap7WnTZvm6PAAAIAzMNnxKKQLFy6ocePGmj9//nX7rV69Wt9++60CAgLyXQsNDdW+ffsUExOjdevWKT4+XoMHD7ZeT09PV6dOnRQYGKjExES99tprmjhxohYtWlSoWB0+tV21alXt3r1bK1as0O7du5WRkaFBgwYpNDTU5uUbAAAAZ9ClSxd16dLlun1+++03Pfvss/ryyy/VrVs3m2v79+/Xhg0btGPHDrVo0UKSNG/ePHXt2lXTp09XQECAli1bpuzsbL399ttycXFRgwYNlJSUpJkzZ9oknDfi0EQyJydHdevW1bp16xQaGqrQ0FBHhgMAAJyUPddIZmVlKSsry6bN1dVVrq6uhsbLy8tT//79NWbMGDVo0CDf9YSEBHl5eVmTSEkKDg6W2WzW9u3b1bt3byUkJKht27Y2LzuHhIRo2rRpOnPmjLy9vQsUi0OntsuUKaPMzExHhgAAAGBXkZGR8vT0tDkiIyMNjzdt2jSVLl1aw4YNu+r11NRU+fr62rSVLl1aPj4+Sk1Ntfbx8/Oz6XPl/EqfgnD41PbQoUM1bdo0LV68WKVLOzwcAADghOxZkYyIiNCoUaNs2oxWIxMTEzVnzhzt3LmzWLxp7vDMbceOHYqNjdXGjRvVqFEjubu721xftWqVgyIDAAC4eTczjf1333zzjU6ePKlq1apZ23JzczV69GjNnj1bx44dk7+/v06ePGlz36VLl3T69Gn5+/tLkvz9/ZWWlmbT58r5lT4F4fBE0svLS3379nV0GAAAwIkVh+peQfTv31/BwcE2bSEhIerfv78ee+wxSVJQUJDOnj2rxMRENW/eXJIUFxenvLw8tWzZ0trnv//9r3JyclSmTBlJUkxMjOrUqVPg9ZFSMUgk33nnHUeHAAAAnFxxSiQzMjJ06NAh6/nRo0eVlJQkHx8fVatWTRUrVrTpX6ZMGfn7+6tOnTqSpHr16qlz58568sknFR0drZycHIWHh6tfv37WrYIeffRRTZo0SYMGDdLYsWP1ww8/aM6cOZo1a1ahYnV4IgkAAID/+f7779WhQwfr+ZX1lWFhYVqyZEmBxli2bJnCw8PVsWNHmc1m9e3bV3PnzrVe9/T01MaNGzV06FA1b95clSpV0vjx4wu19Y8kmSwWi6VQdxSxGjVqXPe/Ao4cOVLoMd2aht9MSACKseTYGY4OAYCdVPMpmnWERgQ8bb93Mo5H97Hb2I7m8IrkiBEjbM5zcnK0a9cubdiwQWPGjHFMUAAAALghhyeSw4cPv2r7/Pnz9f3339/iaAAAgDMqTmskbycO/63ta+nSpYtWrlzp6DAAAABwDQ6vSF7LJ598Ih8fH0eHAQAAnAAVSWMcnkg2bdrU5n88i8Wi1NRUnTp1SgsWLHBgZAAAALgehyeSvXr1sjk3m82qXLmy2rdvr7p16zomKAAA4FSoSBrj8ERywoQJjg4BAAA4O/JIQxySSKanpxe4r4eHhx0jAQAAgFEOSSS9vLxuWEK2WCwymUzKzc29RVEBAABnxdS2MQ5JJL/++mtHPBYAAABFyCGJZLt27RzxWAAAgKuiImmMQxLJPXv2qGHDhjKbzdqzZ891+9511123KCoAAAAUhkMSySZNmig1NVW+vr5q0qSJTCaTLBZLvn6skXQOrZrdoZEDgtWsfjVVqeyph0cu0tpN//sPjD93vX7V+16ctVqz3o21aXMpU1rx7z2nxnX+qZaPRGrPgd8kSW2a19az/+mgFg0C5VG+rA6lnNLspV/pwy/4GU7gVtuz63t9vGyJDiTv1+nfT2ni1Nlq1e5+6/Uzp//Qm/NnKfG7BF04f16NmjTT0NER+mfVQElS6onf1L9Pl6uO/dIr09WuY6db8jlQslCRNMYhieTRo0dVuXJl6z/Dubm7uWrvgd/07qcJWjFzcL7r1YMjbM47tWqg6AmPanVsUr6+U0b01IlT59S4zj9t2u9tXEM/HPxNM5fEKO2P8+rapqEWvzxA5zIy9cU3PxTp5wFwfZmZf6pm7ToK6d5bkyJG2lyzWCyaMHa4SpcurcnT5qicu7tWfvCexg4brMXLV8vNrZwq+/prxbo4m/vWr/lEHy9fonuCWt/KjwI4PYckkoGBgVf9ZzinjVt/1MatP17zetof523Oe7RvpM07DurYb3/YtHdqVV8d762nf49ZrM6tG9hce+3tjTbn8z/YpI5BddXz/sYkksAtdk9QG90T1Oaq13775Wft/2GP3ly2StVr1pIkDXv+JT3SvYO+jvlCXR/sq1KlSsmnYiWb+7ZujlO7+0PkVq6c3eNHyURF0hiHb0h+xY8//qiUlBRlZ2fbtD/44IMOigjFka9PBXVu3VBPjn8vX/uCcf/Ww6Pe1MU/s69xty3P8m5KPppmjzABGJTz/38HuLi4WtvMZrPKlHHRD7t3qeuDffPdc+CnH3X44E969rkXb1mcKIHIIw1xeCJ55MgR9e7dW3v37rVZK3nlvwxutEYyKytLWVlZNm2WvFyZzKXsEzAc6j89Wur8xUytiUuyaV80+T9685Mt2vljiqpV8bnhOH0faKrmDaop/JUP7BQpACOqVq8hX/8qemvhHI0YO15l3dy08sP3dOpkmk7/8ftV79mwdpWqVa+pBnc1ubXBApDZ0QEMHz5cNWrU0MmTJ1WuXDnt27dP8fHxatGihTZt2nTD+yMjI+Xp6WlzXEpLtH/gcIgBPe/Vii++V1b2JWvbM/9upwrlyuabvr6Wti1q641J/9EzL3+g/UdS7RUqAANKly6jCZGz9OsvP6tPSGt173CPdid+p7uDWst8lanHrMxMxW38Qp179HZAtChJTCaT3Y6SzOEVyYSEBMXFxalSpUoym80ym81q3bq1IiMjNWzYMO3ateu690dERGjUqFE2bb5txtozZDhIq6Z3qE4Nf/V/4R2b9vZ336mWd9XQue2zbdq3LnteH37xvc00eOvmtbRyztN6fvoqLV/33a0IG0Ah3Vm3vt5492NdyDivnJwceXn76NlBj6p23Qb5+sZ/HaOszD/1QJceDogUgMMTydzcXFWoUEGSVKlSJR0/flx16tRRYGCgkpOTb3i/q6urXF1dbdqY1i6ZwnoFKfHHFO39/y19rhgd9Ykmzl9nPa9S2VPrFoar/wvvaMfeY9b2Ns1ra9Xcp/XSnE/19qqttypsAAa5l7/8d8Ovv/ysAz/9qLDB4fn6bFi7WkFt2svL+8ZLWoDrKemVQ3txeCLZsGFD7d69WzVq1FDLli0VFRUlFxcXLVq0SDVr1nR0eLgF3N1cdEfVytbz6v+oqLvu/IfOpF/UL6lnJEkV3MuqzwNN9cLM1fnuv9LnioyLl9fMHvnllH47eVbS5ensVXOf1vzlm7Qmdpf8Kl7+Cyo7J1dn0i/a42MBuIY/L17Ub7+mWM9Tj/+mQwd+koeHp3z9q2hz7EZ5eXvL16+Kjh4+qAWzpum+th3UouV9NuP89kuK9iYl6tUZ82/1RwDw/xyeSL700ku6cOGCJGny5Mnq3r272rRpo4oVK2rFihUOjg63QrP6gdq4eLj1POq5y29lvvfZtxo84X1J0r9Cmsskkz7aYGwD8f/0aCl3N1c9PyhEzw8KsbbHf39QIU/OuYnoARTWgZ/26bmhg6zn0XNfkyQ90PVBPT/uFZ3+45TemPuazpz+Qz6VKuuBzj0U+vhT+cbZsG61Kvn6qfnfEkzACAqSxpgsV/tJmVvg7bffVmhoaL5paUk6ffq0vL29DZeZ3Zrmn/4AUDIkx85wdAgA7KSaT/6c4Fap9dwXdhv70PSr/xJTSeCwt7affPJJnTt3znoeEBCgY8eOSZJ8fHxYqwAAAG4Z3to2xmFT238vhJ4/f155eXkOigYAADizEp7v2Y3D95EEAADA7clhFcm/l3udofwLAACKJ3IQYxw6tX3nnXda/4fLyMhQ06ZNZTbbFklPnz7tiPAAAABwAw5LJN95550bdwIAALgFKEga47BEMiwszFGPBgAAQBFw+IbkAAAAjmY2U5I0gre2AQAAYAgVSQAA4PRYI2kMiSQAAHB6bP9jTLGa2rZYLPl+8QYAAADFU7FIJN999101atRIbm5ucnNz01133aX33nvP0WEBAAAnYTLZ7yjJHD61PXPmTI0bN07h4eFq1aqVJGnLli16+umn9fvvv2vkyJEOjhAAAABX4/BEct68eVq4cKEGDBhgbXvwwQfVoEEDTZw4kUQSAADYHWskjXH41PaJEyd033335Wu/7777dOLECQdEBAAAgIJweCJZq1YtffTRR/naV6xYodq1azsgIgAA4GxMJpPdjpLM4VPbkyZN0iOPPKL4+HjrGsmtW7cqNjb2qgkmAAAAigeHJ5J9+/bV9u3bNWvWLK1Zs0aSVK9ePX333Xdq2rSpY4MDAABOoYQXDu3G4VPbktS8eXO9//77SkxMVGJiot5//32SSAAAcMsUp6nt+Ph49ejRQwEBATKZTNZCmyTl5ORo7NixatSokdzd3RUQEKABAwbo+PHjNmOcPn1aoaGh8vDwkJeXlwYNGqSMjAybPnv27FGbNm1UtmxZVa1aVVFRUYWOtVgkkgAAALjswoULaty4sebPn5/v2sWLF7Vz506NGzdOO3fu1KpVq5ScnKwHH3zQpl9oaKj27dunmJgYrVu3TvHx8Ro8eLD1enp6ujp16qTAwEAlJibqtdde08SJE7Vo0aJCxeqwqW2z2XzDLN1kMunSpUu3KCIAAOCsitPUdpcuXdSlS5erXvP09FRMTIxN2+uvv6577rlHKSkpqlatmvbv368NGzZox44datGihaTL2y127dpV06dPV0BAgJYtW6bs7Gy9/fbbcnFxUYMGDZSUlKSZM2faJJw34rBEcvXq1de8lpCQoLlz5yovL+8WRgQAAFD0srKylJWVZdPm6uoqV1fXIhn/3LlzMplM8vLyknQ5j/Ly8rImkZIUHBwss9ms7du3q3fv3kpISFDbtm3l4uJi7RMSEqJp06bpzJkz8vb2LtCzHZZI9uzZM19bcnKyXnjhBa1du1ahoaGaPHmyAyIDAADOxp7b9ERGRmrSpEk2bRMmTNDEiRNveuzMzEyNHTtW//73v+Xh4SFJSk1Nla+vr02/0qVLy8fHR6mpqdY+NWrUsOnj5+dnvVbQRLJYrJE8fvy4nnzySTVq1EiXLl1SUlKSli5dqsDAQEeHBgAAcFMiIiJ07tw5myMiIuKmx83JydHDDz8si8WihQsXFkGkhefQ7X/OnTunKVOmaN68eWrSpIliY2PVpk0bR4YEAACckD3XSBblNPYVV5LIn3/+WXFxcdZqpCT5+/vr5MmTNv0vXbqk06dPy9/f39onLS3Nps+V8yt9CsJhFcmoqCjVrFlT69at0wcffKBt27aRRAIAANzAlSTy4MGD+uqrr1SxYkWb60FBQTp79qwSExOtbXFxccrLy1PLli2tfeLj45WTk2PtExMTozp16hR4WluSTBaLxXKTn8cQs9ksNzc3BQcHq1SpUtfst2rVqkKP7dY0/GZCA1CMJcfOcHQIAOykmk/RVu0K4+5XN9lt7B3/bV+o/hkZGTp06JAkqWnTppo5c6Y6dOggHx8fValSRQ899JB27typdevWWdc1SpKPj4/15ZkuXbooLS1N0dHRysnJ0WOPPaYWLVpo+fLlki7PCtepU0edOnXS2LFj9cMPP+jxxx/XrFmzbo+3tgcMGFDif38SAACgsL7//nt16NDBej5q1ChJUlhYmCZOnKjPPvtMktSkSROb+77++mu1b99ekrRs2TKFh4erY8eOMpvN6tu3r+bOnWvt6+npqY0bN2ro0KFq3ry5KlWqpPHjxxcqiZQcWJG0JyqSQMlFRRIouRxZkbxnyia7jf3di+3tNrajOfy3tgEAAByNWVJjisX2PwAAALj9UJEEAABOj4KkMVQkAQAAYAgVSQAA4PRYI2kMFUkAAAAYQkUSAAA4PQqSxlCRBAAAgCFUJAEAgNNjjaQxJJIAAMDpkUcaw9Q2AAAADKEiCQAAnB5T28ZQkQQAAIAhVCQBAIDToyJpDBVJAAAAGEJFEgAAOD0KksZQkQQAAIAhVCQBAIDTY42kMSSSAADA6ZFHGsPUNgAAAAyhIgkAAJweU9vGUJEEAACAIVQkAQCA06MgaQwVSQAAABhCRRIAADg9MyVJQ6hIAgAAwBAqkgAAwOlRkDSGRBIAADg9tv8xhqltAAAAGEJFEgAAOD0zBUlDqEgCAADAECqSAADA6bFG0hgqkgAAADCEiiQAAHB6FCSNoSIJAAAAQ6hIAgAAp2cSJUkjSCQBAIDTY/sfY5jaBgAAgCFUJAEAgNNj+x9jqEgCAADAECqSAADA6VGQNIaKJAAAAAwhkQQAAE7PbDLZ7Sis+Ph49ejRQwEBATKZTFqzZo3NdYvFovHjx6tKlSpyc3NTcHCwDh48aNPn9OnTCg0NlYeHh7y8vDRo0CBlZGTY9NmzZ4/atGmjsmXLqmrVqoqKiir891boOwAAAGA3Fy5cUOPGjTV//vyrXo+KitLcuXMVHR2t7du3y93dXSEhIcrMzLT2CQ0N1b59+xQTE6N169YpPj5egwcPtl5PT09Xp06dFBgYqMTERL322muaOHGiFi1aVKhYWSMJAACcXnFaI9mlSxd16dLlqtcsFotmz56tl156ST179pQkvfvuu/Lz89OaNWvUr18/7d+/Xxs2bNCOHTvUokULSdK8efPUtWtXTZ8+XQEBAVq2bJmys7P19ttvy8XFRQ0aNFBSUpJmzpxpk3DeCBVJAADg9Ewmk92OrKwspaen2xxZWVmG4jx69KhSU1MVHBxsbfP09FTLli2VkJAgSUpISJCXl5c1iZSk4OBgmc1mbd++3dqnbdu2cnFxsfYJCQlRcnKyzpw5U+B4SCQBAADsKDIyUp6enjZHZGSkobFSU1MlSX5+fjbtfn5+1mupqany9fW1uV66dGn5+PjY9LnaGH99RkEwtQ0AAJyePae2IyIiNGrUKJs2V1dX+z3wFiKRBAAAsCNXV9ciSxz9/f0lSWlpaapSpYq1PS0tTU2aNLH2OXnypM19ly5d0unTp633+/v7Ky0tzabPlfMrfQqCqW0AAOD0itP2P9dTo0YN+fv7KzY21tqWnp6u7du3KygoSJIUFBSks2fPKjEx0donLi5OeXl5atmypbVPfHy8cnJyrH1iYmJUp04deXt7FzgeEkkAAIBiJCMjQ0lJSUpKSpJ0+QWbpKQkpaSkyGQyacSIEXrllVf02Wefae/evRowYIACAgLUq1cvSVK9evXUuXNnPfnkk/ruu++0detWhYeHq1+/fgoICJAkPfroo3JxcdGgQYO0b98+rVixQnPmzMk3BX8jTG0DAACnV4x2/9H333+vDh06WM+vJHdhYWFasmSJnn/+eV24cEGDBw/W2bNn1bp1a23YsEFly5a13rNs2TKFh4erY8eOMpvN6tu3r+bOnWu97unpqY0bN2ro0KFq3ry5KlWqpPHjxxdq6x9JMlksFstNft5ix61puKNDAGAnybEzHB0CADup5uO4F1D6Ld1lt7E/DGtqt7EdjYokAABweqbitCP5bYREEgAAOD0zeaQhvGwDAAAAQ6hIAgAAp8fUtjFUJAEAAGAIFUkAAOD0KEgaQ0USAAAAhlCRBAAATo81ksYUKJH87LPPCjzggw8+aDgYAAAA3D4KlEhe+e3GGzGZTMrNzb2ZeAAAAG459pE0pkCJZF5enr3jAAAAcBimto3hZRsAAAAYYuhlmwsXLmjz5s1KSUlRdna2zbVhw4YVSWAAAAC3CvVIYwqdSO7atUtdu3bVxYsXdeHCBfn4+Oj3339XuXLl5OvrSyIJAADgJAo9tT1y5Ej16NFDZ86ckZubm7799lv9/PPPat68uaZPn26PGAEAAOzKbDLZ7SjJCp1IJiUlafTo0TKbzSpVqpSysrJUtWpVRUVF6cUXX7RHjAAAACiGCp1IlilTRmbz5dt8fX2VkpIiSfL09NQvv/xStNEBAADcAiaT/Y6SrNBrJJs2baodO3aodu3aateuncaPH6/ff/9d7733nho2bGiPGAEAAFAMFboiOWXKFFWpUkWS9Oqrr8rb21tDhgzRqVOntGjRoiIPEAAAwN5MJpPdjpKs0BXJFi1aWP/Z19dXGzZsKNKAAAAAcHswtI8kAABASVLCC4d2U+hEskaNGtct0x45cuSmAgIAALjVSvo2PfZS6ERyxIgRNuc5OTnatWuXNmzYoDFjxhRVXAAAACjmCp1IDh8+/Krt8+fP1/fff3/TAQEAANxqFCSNKfRb29fSpUsXrVy5sqiGAwAAQDFXZC/bfPLJJ/Lx8Smq4QAAAG6Zkr5Nj70Y2pD8r1+2xWJRamqqTp06pQULFhRpcAAAACi+Cp1I9uzZ0yaRNJvNqly5stq3b6+6desWaXBGndnxuqNDAGAnObl5jg4BQAlUZGv9nEyhE8mJEyfaIQwAAADcbgqdgJcqVUonT57M1/7HH3+oVKlSRRIUAADArcRPJBpT6IqkxWK5antWVpZcXFxuOiAAAIBbzVyy8z27KXAiOXfuXEmXM/bFixerfPny1mu5ubmKj48vNmskAQAAYH8FTiRnzZol6XJFMjo62mYa28XFRdWrV1d0dHTRRwgAAGBnVCSNKXAiefToUUlShw4dtGrVKnl7e9stKAAAABR/hV4j+fXXX9sjDgAAAIcp6S/F2Euh39ru27evpk2blq89KipK//rXv4okKAAAABR/hU4k4+Pj1bVr13ztXbp0UXx8fJEEBQAAcCuZTfY7SrJCJ5IZGRlX3eanTJkySk9PL5KgAAAAUPwVOpFs1KiRVqxYka/9ww8/VP369YskKAAAgFvJZLLfUZIV+mWbcePGqU+fPjp8+LDuv/9+SVJsbKyWL1+uTz75pMgDBAAAsDdzSc/47KTQiWSPHj20Zs0aTZkyRZ988onc3NzUuHFjxcXFycfHxx4xAgAAoBgqdCIpSd26dVO3bt0kSenp6frggw/03HPPKTExUbm5uUUaIAAAgL0Veq0fJN3E9xYfH6+wsDAFBARoxowZuv/++/Xtt98WZWwAAAAoxgqVSKampmrq1KmqXbu2/vWvf8nDw0NZWVlas2aNpk6dqrvvvttecQIAANhNcXnZJjc3V+PGjVONGjXk5uamO+64Qy+//LIsFou1j8Vi0fjx41WlShW5ubkpODhYBw8etBnn9OnTCg0NlYeHh7y8vDRo0CBlZGQUxVdlo8CJZI8ePVSnTh3t2bNHs2fP1vHjxzVv3rwiDwgAAMBZTZs2TQsXLtTrr7+u/fv3a9q0aYqKirLJuaKiojR37lxFR0dr+/btcnd3V0hIiDIzM619QkNDtW/fPsXExGjdunWKj4/X4MGDizxek+WvKe51lC5dWsOGDdOQIUNUu3Zta3uZMmW0e/fuYrX1T+YlR0cAwF5ycvMcHQIAO6ng6riViuM2HLxxJ4Ne7lz7xp3+X/fu3eXn56e33nrL2ta3b1+5ubnp/fffl8ViUUBAgEaPHq3nnntOknTu3Dn5+flpyZIl6tevn/bv36/69etrx44datGihSRpw4YN6tq1q3799VcFBAQU2Wcr8P9iW7Zs0fnz59W8eXO1bNlSr7/+un7//fciCwQAAKAkysrKUnp6us2RlZV11b733XefYmNjdeDAAUnS7t27tWXLFnXp0kWSdPToUaWmpio4ONh6j6enp1q2bKmEhARJUkJCgry8vKxJpCQFBwfLbDZr+/btRfrZCpxI3nvvvXrzzTd14sQJPfXUU/rwww8VEBCgvLw8xcTE6Pz580UaGAAAwK1izzWSkZGR8vT0tDkiIyOvGscLL7ygfv36qW7duipTpoyaNm2qESNGKDQ0VNLl91Ukyc/Pz+Y+Pz8/67XU1FT5+vraXC9durR8fHysfYpKoWvI7u7uevzxx7Vlyxbt3btXo0eP1tSpU+Xr66sHH3ywSIMDAAC4Fez5W9sRERE6d+6czREREXHVOD766CMtW7ZMy5cv186dO7V06VJNnz5dS5cuvcXfSMHc1GKEOnXqKCoqSr/++qs++OCDoooJAACgxHB1dZWHh4fN4erqetW+Y8aMsVYlGzVqpP79+2vkyJHWCqa/v78kKS0tzea+tLQ06zV/f3+dPHnS5vqlS5d0+vRpa5+iUiSrWkuVKqVevXrps88+K4rhAAAAbimzyWS3ozAuXrwos9k2PStVqpTy8i6/aFijRg35+/srNjbWej09PV3bt29XUFCQJCkoKEhnz55VYmKitU9cXJzy8vLUsmVLo1/RVRn6ZRsAAAAUvR49eujVV19VtWrV1KBBA+3atUszZ87U448/LkkymUwaMWKEXnnlFdWuXVs1atTQuHHjFBAQoF69ekmS6tWrp86dO+vJJ59UdHS0cnJyFB4ern79+hXpG9sSiSQAAEChNw63l3nz5mncuHF65plndPLkSQUEBOipp57S+PHjrX2ef/55XbhwQYMHD9bZs2fVunVrbdiwQWXLlrX2WbZsmcLDw9WxY0eZzWb17dtXc+fOLfJ4C7yP5O2EfSSBkot9JIGSy5H7SL781SG7jT0uuJbdxnY0KpIAAMDpmYtJRfJ247jUHwAAALc1KpIAAMDpmURJ0ggSSQAA4PSY2jaGqW0AAAAYQkUSAAA4PSqSxlCRBAAAgCFUJAEAgNMzFZcdyW8zVCQBAABgCBVJAADg9FgjaQwVSQAAABhCRRIAADg9lkgaQyIJAACcnplM0hCmtgEAAGAIFUkAAOD0eNnGGCqSAAAAMISKJAAAcHoskTSGiiQAAAAMoSIJAACcnlmUJI2gIgkAAABDqEgCAACnxxpJY0gkAQCA02P7H2OY2gYAAIAhVCQBAIDT4ycSjaEiCQAAAEOoSAIAAKdHQdIYKpIAAAAwhIokAABweqyRNIaKJAAAAAyhIgkAAJweBUljSCQBAIDTY4rWGL43AAAAGEJFEgAAOD0Tc9uGUJEEAACAIVQkAQCA06MeaQwVSQAAABhCRRIAADg9NiQ3hookAAAADKEiCQAAnB71SGNIJAEAgNNjZtsYprYBAABgCBVJAADg9NiQ3BgqkgAAAMXIb7/9pv/85z+qWLGi3Nzc1KhRI33//ffW6xaLRePHj1eVKlXk5uam4OBgHTx40GaM06dPKzQ0VB4eHvLy8tKgQYOUkZFR5LGSSAIAAKdntuNRGGfOnFGrVq1UpkwZffHFF/rxxx81Y8YMeXt7W/tERUVp7ty5io6O1vbt2+Xu7q6QkBBlZmZa+4SGhmrfvn2KiYnRunXrFB8fr8GDBxf6e7kRk8VisRT5qA6WecnREQCwl5zcPEeHAMBOKrg6rr61Ytdvdhv7kab/KHDfF154QVu3btU333xz1esWi0UBAQEaPXq0nnvuOUnSuXPn5OfnpyVLlqhfv37av3+/6tevrx07dqhFixaSpA0bNqhr16769ddfFRAQcPMf6v9RkQQAAE7PZDLZ7cjKylJ6errNkZWVddU4PvvsM7Vo0UL/+te/5Ovrq6ZNm+rNN9+0Xj969KhSU1MVHBxsbfP09FTLli2VkJAgSUpISJCXl5c1iZSk4OBgmc1mbd++vUi/NxJJAAAAO4qMjJSnp6fNERkZedW+R44c0cKFC1W7dm19+eWXGjJkiIYNG6alS5dKklJTUyVJfn5+Nvf5+flZr6WmpsrX19fmeunSpeXj42PtU1R4axsAADg9e76zHRERoVGjRtm0ubq6XrVvXl6eWrRooSlTpkiSmjZtqh9++EHR0dEKCwuzY5TGUJEEAACwI1dXV3l4eNgc10okq1Spovr169u01atXTykpKZIkf39/SVJaWppNn7S0NOs1f39/nTx50ub6pUuXdPr0aWufokIiCQAAnJ4910gWRqtWrZScnGzTduDAAQUGBkqSatSoIX9/f8XGxlqvp6ena/v27QoKCpIkBQUF6ezZs0pMTLT2iYuLU15enlq2bGn0K7oqprYBAIDTKy6VtZEjR+q+++7TlClT9PDDD+u7777TokWLtGjRIkmXE94RI0bolVdeUe3atVWjRg2NGzdOAQEB6tWrl6TLFczOnTvrySefVHR0tHJychQeHq5+/foV6RvbEtv/ALjNsP0PUHI5cvufVbtP2G3sPo2rFKr/unXrFBERoYMHD6pGjRoaNWqUnnzySet1i8WiCRMmaNGiRTp79qxat26tBQsW6M4777T2OX36tMLDw7V27VqZzWb17dtXc+fOVfny5Yvsc0kkkgBuMySSQMnlyERy9Z6ifZv5r3rfVbTrEouT4lLJBQAAwG2GNZIAAMDp2XP7n5KMiiQAAAAMoSIJAACcXiF36cH/oyIJAAAAQ6hIAgAAp2dmlaQhJJIAAMDpMbVtDFPbAAAAMISKJAAAcHomprYNoSIJAAAAQ6hIAgAAp8caSWOoSAIAAMAQKpIAAMDpsf2PMVQkAQAAYAgVSQAA4PRYI2kMiSQAAHB6JJLGFKup7ezsbCUnJ+vSpUuODgUAAAA3UCwSyYsXL2rQoEEqV66cGjRooJSUFEnSs88+q6lTpzo4OgAAUNKZ7Ph/JVmxSCQjIiK0e/dubdq0SWXLlrW2BwcHa8WKFQ6MDAAAANdSLNZIrlmzRitWrNC9994r018WKTRo0ECHDx92YGQAAMAZmEt24dBuikVF8tSpU/L19c3XfuHCBZvEEgAAAMVHsUgkW7RoofXr11vPrySPixcvVlBQkKPCAgAAToI1ksYUi6ntKVOmqEuXLvrxxx916dIlzZkzRz/++KO2bdumzZs3Ozo8AAAAXEWxqEi2bt1au3fv1qVLl9SoUSNt3LhRvr6+SkhIUPPmzR0dHgAAKOFMJvsdJZnDK5I5OTl66qmnNG7cOL355puODgcAADihkj4FbS8Or0iWKVNGK1eudHQYAAAAKCSHJ5KS1KtXL61Zs8bRYQAAACdlNtnvKMkcPrUtSbVr19bkyZO1detWNW/eXO7u7jbXhw0b5qDIAAAAcC0mi8VicXQQNWrUuOY1k8mkI0eOFGq8TH6qGyixcnLzHB0CADup4Oq4idJvDpyx29ht7vS229iOViwqkkePHnV0CAAAACikYpFIAoXV5YH7dfz4b/naH+n3qF4cN8EBEQEw6o0Fr+vN6Pk2bYHVa2jlZ5/btFksFg1/5ilt2/qNps+ep/b3B9/KMFHClfRteuylWCSSjz/++HWvv/3227coEtwulq34RHm5udbzQ4cO6qknHtMDIZ0dGBUAo2reUUsL3vzfv+tLl8r/19Py95eKHVqA4qVYJJJnztiuS8jJydEPP/ygs2fP6v7773dQVCjOfHx8bM7fXrxIVatWU4u773FQRABuRunSpVWpUuVrXk/+ab+WLV2idz/8WJ3vb3sLI4Oz4L9RjCkWieTq1avzteXl5WnIkCG64447HBARbic52dlav+4z9Q97zPo77QBuLyk//6zOHdvK1cVVjRo3UfjwkfKvEiBJyvzzT730whg9/99x1002gZth5u8PQ4rFPpJXYzabNWrUKM2aNeu6/bKyspSenm5zZGVl3aIoURzExX2l8+fP68FevR0dCgADGja6SxNfmaJ5C9/UCy9N0PHfftUTA/+jCxcuSJJmvDZVdzVuovYdOjo4UgB/Vywqktdy+PBhXbp0/b18IiMjNWnSJJu2/46boJfGT7RjZChOVq9cqVat28rX18/RoQAwoFWb/01V176zjho2ukvdO3dUzJdfyNvbR99/962WfbTKgRHCGVCPNKZY7CM5atQom3OLxaITJ05o/fr1CgsL0+uvv37Ne7OysvJVIC2lXOXq6mqXWFG8HD/+m7qFBGvmnHnqwBucToF9JJ3DgH//S/fcG6SszEx9uPx9mc3/m0DLzc2V2WxWk2bNtejtdx0YJYqaI/eR/PbQWbuNfW8tL7uN7WjFoiK5a9cum3Oz2azKlStrxowZN3yj29U1f9LIhuTO49PVq+TjU1Ft2rZ3dCgAisjFixf06y+/qGv3BxUc0lk9+zxkc71f354aNeYFtWnXwUERokSiJGlIsUgkv/76a0eHgNtQXl6ePl29Sj169lLp0sXi/5UBGDB7epTatG+vKlX+oVOnTuqNBfNkLmVWSJdu8vbxueoLNv5Vqugf//ynA6IF8Ff87Yvb1rcJ23TixHH16tPX0aEAuAlpJ1P137HP6dzZs/L29lHjZs205P0P5f23bb4AezJRkjTEYWskmzZtWuCtWnbu3FmosZnaBkou1kgCJZcj10huP3zObmO3vMPTbmM7msMqkr169XLUowEAAGywjaQxxeKt7aJGRRIouahIAiWXIyuSO47YryJ5d03jFcmpU6cqIiJCw4cP1+zZsyVJmZmZGj16tD788ENlZWUpJCRECxYskJ/f/7bBS0lJ0ZAhQ/T111+rfPnyCgsLU2RkZJG/U1BsNyQHAABwZjt27NAbb7yhu+66y6Z95MiRWrt2rT7++GNt3rxZx48fV58+fazXc3Nz1a1bN2VnZ2vbtm1aunSplixZovHjxxd5jA6rSPr4+OjAgQOqVKmSvL29r7te8vTp04Uam4okUHJRkQRKLodWJI/asSJZo/AVyYyMDDVr1kwLFizQK6+8oiZNmmj27Nk6d+6cKleurOXLl+uhhy5vjfXTTz+pXr16SkhI0L333qsvvvhC3bt31/Hjx61VyujoaI0dO1anTp2Si4tLkX02h62RnDVrlipUqCBJ1lItAABASXO1H0+52j7YfzV06FB169ZNwcHBeuWVV6ztiYmJysnJUXDw/36Eo27duqpWrZo1kUxISFCjRo1sprpDQkI0ZMgQ7du3T02bNi2yz+awRDIsLOyq/wwAAHCr2XP7n6v9nPOECRM0ceLEq/b/8MMPtXPnTu3YsSPftdTUVLm4uMjLy8um3c/PT6mpqdY+f00ir1y/cq0oFbt9JDMzM5WdnW3T5uHh4aBoAAAAbk5ERES+n4O+VjXyl19+0fDhwxUTE6OyZcveivBuSrF42ebChQsKDw+Xr6+v3N3d5e3tbXMAAADYk8lkv8PV1VUeHh42x7USycTERJ08eVLNmjVT6dKlVbp0aW3evFlz585V6dKl5efnp+zsbJ09e9bmvrS0NPn7+0uS/P39lZaWlu/6lWtFqVgkks8//7zi4uK0cOFCubq6avHixZo0aZICAgL07rvvOjo8AACAW6Jjx47au3evkpKSrEeLFi0UGhpq/ecyZcooNjbWek9ycrJSUlIUFBQkSQoKCtLevXt18uRJa5+YmBh5eHiofv36RRpvsZjaXrt2rd599121b99ejz32mNq0aaNatWopMDBQy5YtU2hoqKNDBAAAJVhx2Y+8QoUKatiwoU2bu7u7KlasaG0fNGiQRo0aJR8fH3l4eOjZZ59VUFCQ7r33XklSp06dVL9+ffXv319RUVFKTU3VSy+9pKFDh173BR8jikUiefr0adWsWVPS5fWQV7b7ad26tYYMGeLI0AAAgDMoLplkAcyaNUtms1l9+/a12ZD8ilKlSmndunUaMmSIgoKC5O7urrCwME2ePLnIYykWiWTNmjV19OhRVatWTXXr1tVHH32ke+65R2vXrs33VhIAAIAz2bRpk8152bJlNX/+fM2fP/+a9wQGBurzzz+3c2QOXiN55MgR5eXl6bHHHtPu3bslSS+88ILmz5+vsmXLauTIkRozZowjQwQAAE7AZMf/K8kc+lvbpUqV0okTJ+Tr6ytJeuSRRzR37lxlZmYqMTFRtWrVyvezQAXBL9sAJRe/bAOUXI78ZZtdP5+329hNAyvYbWxHc2giaTablZqaak0kK1SooN27d1vXSxpFIgmUXCSSQMnlyEQyKcV+iWSTaiU3kSwW2/8AAADg9uPQl21MJpNMJlO+NgAAgFuJ7MMYhyaSFotFAwcOtO5plJmZqaefflru7u42/VatWuWI8AAAAHAdDk0kw8LCbM7/85//OCgSAADg1ChJGuLQl23shZdtgJKLl22AksuRL9vs+SXDbmPfVbW83cZ2NF62AQAAgCHF4pdtAAAAHIl3fY2hIgkAAABDqEgCAACnR0HSGCqSAAAAMISKJAAAACVJQ6hIAgAAwBAqkgAAwOmZKEkaQkUSAAAAhlCRBAAATo99JI0hkQQAAE6PPNIYprYBAABgCBVJAAAASpKGUJEEAACAIVQkAQCA02P7H2OoSAIAAMAQKpIAAMDpsf2PMVQkAQAAYAgVSQAA4PQoSBpDIgkAAEAmaQhT2wAAADCEiiQAAHB6bP9jDBVJAAAAGEJFEgAAOD22/zGGiiQAAAAMoSIJAACcHgVJY6hIAgAAwBAqkgAAAJQkDSGRBAAATo/tf4xhahsAAACGUJEEAABOj+1/jKEiCQAAAEOoSAIAAKdHQdIYKpIAAAAwhEQSAADAZMejECIjI3X33XerQoUK8vX1Va9evZScnGzTJzMzU0OHDlXFihVVvnx59e3bV2lpaTZ9UlJS1K1bN5UrV06+vr4aM2aMLl26VLhgCoBEEgAAoJjYvHmzhg4dqm+//VYxMTHKyclRp06ddOHCBWufkSNHau3atfr444+1efNmHT9+XH369LFez83NVbdu3ZSdna1t27Zp6dKlWrJkicaPH1/k8ZosFoulyEd1sMyiT7gBFBM5uXmODgGAnVRwdVx96+c/suw2dmBFV8P3njp1Sr6+vtq8ebPatm2rc+fOqXLlylq+fLkeeughSdJPP/2kevXqKSEhQffee6+++OILde/eXcePH5efn58kKTo6WmPHjtWpU6fk4uJSJJ9LoiIJAAAgk8l+R1ZWltLT022OrKyCJa7nzp2TJPn4+EiSEhMTlZOTo+DgYGufunXrqlq1akpISJAkJSQkqFGjRtYkUpJCQkKUnp6uffv2FdVXJolEEgAAwK4iIyPl6elpc0RGRt7wvry8PI0YMUKtWrVSw4YNJUmpqalycXGRl5eXTV8/Pz+lpqZa+/w1ibxy/cq1osT2PwAAwOnZc/ufiIgIjRo1yqbN1fXG091Dhw7VDz/8oC1bttgrtJtGIgkAAGBHrq6uBUoc/yo8PFzr1q1TfHy8/vnPf1rb/f39lZ2drbNnz9pUJdPS0uTv72/t891339mMd+Wt7it9igpT2wAAwOnZc41kYVgsFoWHh2v16tWKi4tTjRo1bK43b95cZcqUUWxsrLUtOTlZKSkpCgoKkiQFBQVp7969OnnypLVPTEyMPDw8VL9+feNf0lXw1jaA2wpvbQMllyPf2v71jP3e2v6nd8Grkc8884yWL1+uTz/9VHXq1LG2e3p6ys3NTZI0ZMgQff7551qyZIk8PDz07LPPSpK2bdsm6fL2P02aNFFAQICioqKUmpqq/v3764knntCUKVOK8JORSAK4zZBIAiWXYxPJbLuN/U/vgm+3Y7pGCfOdd97RwIEDJV3ekHz06NH64IMPlJWVpZCQEC1YsMBm2vrnn3/WkCFDtGnTJrm7uyssLExTp05V6dJFu6qRRBLAbYVEEii5SCRvP7xsAwAAnF5h1zLiMhJJAADg9MgjjeGtbQAAABhCRRIAADg9praNoSIJAAAAQ6hIAgAAp2dilaQhVCQBAABgCBVJAAAACpKGUJEEAACAIVQkAQCA06MgaQyJJAAAcHps/2MMU9sAAAAwhIokAABwemz/YwwVSQAAABhCRRIAAICCpCFUJAEAAGAIFUkAAOD0KEgaQ0USAAAAhlCRBAAATo99JI0hkQQAAE6P7X+MYWobAAAAhlCRBAAATo+pbWOoSAIAAMAQEkkAAAAYQiIJAAAAQ1gjCQAAnB5rJI2hIgkAAABDqEgCAACnxz6SxpBIAgAAp8fUtjFMbQMAAMAQKpIAAMDpUZA0hookAAAADKEiCQAAQEnSECqSAAAAMISKJAAAcHps/2MMFUkAAAAYQkUSAAA4PfaRNIaKJAAAAAyhIgkAAJweBUljSCQBAADIJA1hahsAAACGUJEEAABOj+1/jKEiCQAAAEOoSAIAAKfH9j/GUJEEAACAISaLxWJxdBCAUVlZWYqMjFRERIRcXV0dHQ6AIsSfb6D4I5HEbS09PV2enp46d+6cPDw8HB0OgCLEn2+g+GNqGwAAAIaQSAIAAMAQEkkAAAAYQiKJ25qrq6smTJjAQnygBOLPN1D88bINAAAADKEiCQAAAENIJAEAAGAIiSQAAAAMIZFEiXTs2DGZTCYlJSVJkjZt2iSTyaSzZ886NC4A+S1ZskReXl7W84kTJ6pJkyYOiwdAwZFI4qYMHDhQJpNJU6dOtWlfs2aNTCbTTY29ZMkSmUymfMfixYtveG/VqlV14sQJNWzY8KZiAFBwV/598Pfj0KFD173vkUce0YEDB25RlACKUmlHB4DbX9myZTVt2jQ99dRT8vb2LtKxPTw8lJycbNPm6el5w/tKlSolf3//Io0lOztbLi4uRTomUNJ07txZ77zzjk1b5cqVr3uPm5ub3NzcijQO/rwCtwYVSdy04OBg+fv7KzIy8rr9Vq5cqQYNGsjV1VXVq1fXjBkzbji2yWSSv7+/zeHm5qYNGzaodevW8vLyUsWKFdW9e3cdPnzYet/fp7b/7mpTZ7Nnz1b16tWt5wMHDlSvXr306quvKiAgQHXq1JEk/fLLL3r44Yfl5eUlHx8f9ezZU8eOHbvhZwGcgaura74/s3PmzFGjRo3k7u6uqlWr6plnnlFGRob1nr9Pbf9d+/btNWLECJu2Xr16aeDAgdbz6tWr6+WXX9aAAQPk4eGhwYMHS5K2bNmiNm3ayM3NTVWrVtWwYcN04cKFovzIgFMjkcRNK1WqlKZMmaJ58+bp119/vWqfxMREPfzww+rXr5/27t2riRMnaty4cVqyZImhZ164cEGjRo3S999/r9jYWJnNZvXu3Vt5eXk38Unyi42NVXJysmJiYrRu3Trl5OQoJCREFSpU0DfffKOtW7eqfPny6ty5s7Kzs4v02UBJYTabNXfuXO3bt09Lly5VXFycnn/++SJ/zvTp09W4cWPt2rVL48aN0+HDh9W5c2f17dtXe/bs0YoVK7RlyxaFh4cX+bMBZ8XUNopE79691aRJE02YMEFvvfVWvuszZ85Ux44dNW7cOEnSnXfeqR9//FGvvfaaTVXh786dO6fy5ctbz8uXL6/U1FT17dvXpt/bb7+typUr68cffyzSdZHu7u5avHixdYrs/fffV15enhYvXmxdA/rOO+/Iy8tLmzZtUqdOnYrs2cDtaN26dTZ/Zrt06aKPP/7Yel69enW98sorevrpp7VgwYIiffb999+v0aNHW8+feOIJhYaGWquZtWvX1ty5c9WuXTstXLhQZcuWLdLnA86IRBJFZtq0abr//vv13HPP5bu2f/9+9ezZ06atVatWmj17tnJzc1WqVKmrjlmhQgXt3LnTem42Xy6iHzx4UOPHj9f27dv1+++/WyuRKSkpRZpINmrUyGad1e7du3Xo0CFVqFDBpl9mZqbN1DrgrDp06KCFCxdaz93d3fXVV18pMjJSP/30k9LT03Xp0iVlZmbq4sWLKleuXJE9u0WLFjbnu3fv1p49e7Rs2TJrm8ViUV5eno4ePap69eoV2bMBZ0UiiSLTtm1bhYSEKCIi4rpVxsIwm82qVatWvvYePXooMDBQb775pgICApSXl6eGDRsWeHrZbDbr778OmpOTk6+fu7u7zXlGRoaaN29u8xfTFTd6oQBwBu7u7jZ/Zo8dO6bu3btryJAhevXVV+Xj46MtW7Zo0KBBys7OLlAieTN/Xp966ikNGzYsX99q1aoV9CMBuA4SSRSpqVOnqkmTJtYXU66oV6+etm7datO2detW3XnnndesRl7LH3/8oeTkZL355ptq06aNpMsL6gujcuXKSk1NlcVisU5RX+vFnL9q1qyZVqxYIV9fX3l4eBTqmYAzSkxMVF5enmbMmGGdUfjoo48KNUblypV14sQJ63lubq5++OEHdejQ4br3NWvWTD/++ONV/2MUQNHgZRsUqUaNGik0NFRz5861aR89erRiY2P18ssv68CBA1q6dKlef/31q06D34i3t7cqVqyoRYsW6dChQ4qLi9OoUaMKNUb79u116tQpRUVF6fDhw5o/f76++OKLG94XGhqqSpUqqWfPnvrmm2909OhRbdq0ScOGDbvmi0aAM6tVq5ZycnI0b948HTlyRO+9956io6MLNcb999+v9evXa/369frpp580ZMiQAv24wNixY7Vt2zaFh4crKSlJBw8e1KeffsrLNkARIpFEkZs8eXK+t6ebNWumjz76SB9++KEaNmyo8ePHa/LkyYamwM1msz788EMlJiaqYcOGGjlypF577bVCjVGvXj0tWLBA8+fPV+PGjfXdd98VKKktV66c4uPjVa1aNfXp00f16tXToEGDlJmZSYUSuIrGjRtr5syZmjZtmho2bKhly5bdcKuwv3v88ccVFhamAQMGqF27dqpZs+YNq5GSdNddd2nz5s06cOCA2rRpo6ZNm2r8+PEKCAgw+nEA/I3J8veFJwAAAEABUJEEAACAISSSAAAAMIREEgAAAIaQSAIAAMAQEkkAAAAYQiIJAAAAQ0gkAQAAYAiJJAAAAAwhkQRQbA0cOFC9evWynrdv314jRoy45XFs2rRJJpOpQD/LBwDOhEQSQKENHDhQJpNJJpNJLi4uqlWrliZPnqxLly7Z9bmrVq3Syy+/XKC+JH8AYH+lHR0AgNtT586d9c477ygrK0uff/65hg4dqjJlyigiIsKmX3Z2tlxcXIrkmT4+PkUyDgCgaFCRBGCIq6ur/P39FRgYqCFDhig4OFifffaZdTr61VdfVUBAgOrUqSNJ+uWXX/Twww/Ly8tLPj4+6tmzp44dO2YdLzc3V6NGjZKXl5cqVqyo559/XhaLxeaZf5/azsrK0tixY1W1alW5urqqVq1aeuutt3Ts2DF16NBBkuTt7S2TyaSBAwdKkvLy8hQZGakaNWrIzc1NjRs31ieffGLznM8//1x33nmn3Nzc1KFDB5s4AQD/QyIJoEi4ubkpOztbkhQbG6vk5GTFxMRo3bp1ysnJUUhIiCpUqKBvvvlGW7duVfny5dW5c2frPTNmzNCSJUv09ttva8uWLTp9+rRWr1593WcOGDBAH3zwgebOnav9+/frjTfeUPny5VW1alWtXLlSkpScnKwTJ05ozpw5kqTIyEi9++67io6O1r59+zRy5Ej95z//0ebNmyVdTnj79OmjHj16KCkpSU888YReeOEFe31tAHBbY2obwE2xWCyKjY3Vl19+qWeffVanTp2Su7u7Fi9ebJ3Sfv/995WXl6fFixfLZDJJkt555x15eXlp06ZN6tSpk2bPnq2IiAj16dNHkhQdHa0vv/zyms89cOCAPvroI8XExCg4OFiSVLNmTev1K9Pgvr6+8vLyknS5gjllyhR99dVXCgoKst6zZcsWvfHGG2rXrp0WLlyoO+64QzNmzJAk1alTR3v37tW0adOK8FsDgJKBRBKAIevWrVP58uWVk5OjvLw8Pfroo5o4caKGDh2qRo0a2ayL3L17tw4dOqQKFSrYjJGZmanDhw/r3LlzOnHihFq2bGm9Vrp0abVo0SLf9PYVSUlJKlWqlNq1a1fgmA8dOqSLFy/qgQcesGnPzs5W06ZNJUn79++3iUOSNekEANgikQRgSIcOHbRw4UK5uLgoICBApUv/718n7u7uNn0zMjLUvHlzLVu2LN84lStXNvR8Nze3Qt+TkZEhSVq/fr3+8Y9/2FxzdXU1FAcAODMSSQCGuLu7q1atWgXq26xZM61YsUK+vr7y8PC4ap8qVapo+/btatu2rSTp0qVLSkxMVLNmza7av1GjRsrLy9PmzZutU9t/daUimpuba22rX7++XF1dlZKScs1KZr169fTZZ5/ZtH377bc3/pAA4IR42QaA3YWGhqpSpUrq2bOnvvnmGx09elSbNm3SsGHD9Ouvv0qShg8frqlTp2rNmjX66aef9Mwzz1x3D8jq1asrLCxMjz/+uNasWWMd86OPPpIkBQYGymQyad26dTp16pQyMjJUoUIFPffccxo5cqSWLl2qw4cPa+fOnZo3b56WLl0qSXr66ad18OBBjRkzRsnJyVq+fLmWLFli768IAG5LJJIA7K5cuXKKj49XtWrV1KdPH9WrV0+DBg1SZmamtUI5evRo9e/fX2FhYQoKClKFChXUu3fv6467cOFCPfTQQ3rmmWdUt25dPfnkk7pw4YIk6R//+IcmTZqkF154QX5+fgoPD5ckvfzyyxo3bpwiIyNVr149de7cWevXr1eNGjUkSdWqVdPKlSu1Zs0aNW7cWNHR0ZoyZYodvx0AuH2ZLNdayQ4AAABcBxVJAAAAGEIiCQAAAENIJAEAAGAIiSQAAAAMIZEEAACAISSSAAAAMIREEgAAAIaQSAIAAMAQEkkAAAAYQiIJAAAAQ0gkAQAAYMj/AZUbOrFLz42QAAAAAElFTkSuQmCC",
>>>>>>> 59e60ae (Edited the markdowns and included k-fold in SVM)
      "text/plain": [
       "<Figure size 800x600 with 2 Axes>"
      ]
     },
     "metadata": {},
     "output_type": "display_data"
    },
    {
     "data": {
<<<<<<< HEAD
      "image/png": "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",
=======
      "image/png": "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",
>>>>>>> 59e60ae (Edited the markdowns and included k-fold in SVM)
      "text/plain": [
       "<Figure size 800x600 with 1 Axes>"
      ]
     },
     "metadata": {},
     "output_type": "display_data"
    },
    {
     "data": {
<<<<<<< HEAD
      "image/png": "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",
=======
      "image/png": "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",
>>>>>>> 59e60ae (Edited the markdowns and included k-fold in SVM)
      "text/plain": [
       "<Figure size 640x480 with 1 Axes>"
      ]
     },
     "metadata": {},
     "output_type": "display_data"
    }
   ],
   "source": [
    "print(\"\\nClassification Report:\")\n",
    "print(classification_report(y_test, y_pred))\n",
    "\n",
    "cm = confusion_matrix(y_test, y_pred)\n",
    "plt.figure(figsize=(8, 6))\n",
    "sns.heatmap(cm, annot=True, fmt='d', cmap='Blues', xticklabels=['No Failure', 'Failure'], yticklabels=['No Failure', 'Failure'])\n",
    "plt.xlabel('Predicted')\n",
    "plt.ylabel('Actual')\n",
    "plt.title('Confusion Matrix')\n",
    "plt.show()\n",
    "\n",
    "#roc curve\n",
    "y_pred_prob = SVM_model.decision_function(x_test)\n",
    "fpr, tpr, thresholds = roc_curve(y_test, y_pred_prob)\n",
    "roc_auc = auc(fpr, tpr)\n",
    "\n",
    "plt.figure(figsize=(8, 6))\n",
    "plt.plot(fpr, tpr, color='darkorange', lw=2, label='ROC curve (area = %0.2f)' % roc_auc)\n",
    "plt.plot([0, 1], [0, 1], color='navy', lw=2, linestyle='--')\n",
    "plt.xlabel('False Positive Rate')\n",
    "plt.ylabel('True Positive Rate')\n",
    "plt.title('Receiver Operating Characteristic (ROC) Curve')\n",
    "plt.legend(loc='lower right')\n",
    "plt.show()\n",
    "\n",
    "\n",
    "#precision recall curve\n",
    "precision, recall, _ = precision_recall_curve(y_test, y_pred_prob)\n",
    "plt.figure()\n",
    "plt.plot(recall, precision, color='blue', lw=2)\n",
    "plt.xlabel('Recall')\n",
    "plt.ylabel('Precision')\n",
    "plt.title('Precision-Recall curve')\n",
<<<<<<< HEAD
    "plt.show()\n",
    " \n"
=======
    "plt.show()"
>>>>>>> 59e60ae (Edited the markdowns and included k-fold in SVM)
   ]
  }
 ],
 "metadata": {
  "kernelspec": {
   "display_name": "Python 3",
   "language": "python",
   "name": "python3"
  },
  "language_info": {
   "codemirror_mode": {
    "name": "ipython",
    "version": 3
   },
   "file_extension": ".py",
   "mimetype": "text/x-python",
   "name": "python",
   "nbconvert_exporter": "python",
   "pygments_lexer": "ipython3",
<<<<<<< HEAD
   "version": "3.10.7"
=======
   "version": "3.11.0"
>>>>>>> 59e60ae (Edited the markdowns and included k-fold in SVM)
  }
 },
 "nbformat": 4,
 "nbformat_minor": 2
}
